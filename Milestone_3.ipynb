{
 "cells": [
  {
   "cell_type": "markdown",
   "metadata": {},
   "source": [
    "# <p style =\"text-align: center\">The People & Blogs Category</p>\n",
    "\n",
    "This is notebook contains the main logic of our data collection and plot generation for the 3rd and final milestone of the Applied Data Analysis course.\n",
    "\n",
    "> **Important Note**: Most of the plots were removed due to the fact that they were interactive plots, this notebook merely serves to show the logic behind. Moreover, these plots made the notebook too large, which made github refuse to display it since it exceeded size constraints."
   ]
  },
  {
   "cell_type": "markdown",
   "metadata": {},
   "source": [
    "## Imports"
   ]
  },
  {
   "cell_type": "code",
   "execution_count": null,
   "metadata": {},
   "outputs": [],
   "source": [
    "import numpy as np\n",
    "import os \n",
    "import pandas as pd\n",
    "import seaborn as sns\n",
    "from sklearn.linear_model import LinearRegression\n",
    "\n",
    "## plotting\n",
    "import matplotlib.pyplot as plt\n",
    "import pyarrow.feather as feather\n",
    "import plotly.graph_objs as go\n",
    "import plotly.express as px\n",
    "import plotly.offline as pyo\n",
    "\n",
    "## tag analysis\n",
    "from wordcloud import WordCloud\n",
    "from collections import Counter\n",
    "import gensim.downloader as api\n",
    "from sklearn.decomposition import PCA, LatentDirichletAllocation\n",
    "from sklearn.feature_extraction.text import TfidfVectorizer, CountVectorizer\n",
    "from sklearn.manifold import TSNE\n",
    "from mpl_toolkits.mplot3d import Axes3D\n",
    "\n",
    "## nlp and viz\n",
    "import pyLDAvis\n",
    "import pyLDAvis.lda_model\n",
    "import nltk\n",
    "from nltk.corpus import stopwords\n",
    "from nltk.tokenize import word_tokenize\n",
    "from nltk.tag import pos_tag\n",
    "from nltk.stem import WordNetLemmatizer\n",
    "import re\n",
    "\n",
    "from utils.loading import *\n",
    "from utils.plotting import *"
   ]
  },
  {
   "cell_type": "markdown",
   "metadata": {},
   "source": [
    "Join us on a journey through YouTube's dynamic landscape as we unravel the transformation of channels within the People & Blogs category over the past decade. From sudden pivots to strategic shifts, we delve into the reasons behind channels morphing in this vibrant space.\n",
    "\n",
    "What motivates a channel's transition? Was it audience demand, a quest for reinvention, or a strategic play? Our quest is to uncover the motivations and quality that drove these channel metamorphoses. Get ready to decipher the narrative behind YouTube's shape-shifting channels as we navigate through data, decode patterns, and reveal the untold stories behind this intriguing evolution."
   ]
  },
  {
   "cell_type": "markdown",
   "metadata": {},
   "source": [
    "## Our Dataset"
   ]
  },
  {
   "cell_type": "markdown",
   "metadata": {},
   "source": [
    "\n",
    "This data story relies on the Youniverse dataset, a comprehensive repository encompassing YouTube channel data spanning the last decade (2005-2019). It encapsulates key metrics such as views, likes, comments, subscriber counts, and video metadata. The dataset's breadth and depth make it an ideal choice for our analysis, enabling a nuanced exploration of channel transitions within the People & Blogs category."
   ]
  },
  {
   "cell_type": "markdown",
   "metadata": {},
   "source": [
    "Let's start by loading the general channel data, as well as their associated time series. The original dataset only consists of channels with at least 10 videos and 10000 subscribers, so we won't need to filter out any channels. These thresholds ensure that we only consider channels with a significant amount of content and a large enough audience to be relevant, and are the basis of our analysis."
   ]
  },
  {
   "cell_type": "code",
   "execution_count": null,
   "metadata": {},
   "outputs": [],
   "source": [
    "NOTEBOOK_PATH = os.getcwd()\n",
    "DIR_PATH = os.path.dirname(NOTEBOOK_PATH)\n",
    "UTILS_PATH = os.path.join(DIR_PATH, \"utils\")\n",
    "\n",
    "# data\n",
    "DATA_PATH = os.path.join(DIR_PATH, \"Data_youniverse\")\n",
    "CATEGORY = \"People & Blogs\"\n",
    "CATEGORY_FILE_NAME = ''.join(CATEGORY.split(\" \")).lower()\n",
    "CATEGORY_FILE_PATH = os.path.join(DATA_PATH, f\"df_channels_{CATEGORY_FILE_NAME}.tsv.gz\")\n",
    "\n",
    "# website data\n",
    "SITE_DATA_PATH = os.path.join(DIR_PATH, 'website_data')\n",
    "PEOPLE_AND_BLOGS_PATH = os.path.join(SITE_DATA_PATH, 'People_&_Blogs')\n",
    "\n",
    "if not os.path.exists(PEOPLE_AND_BLOGS_PATH):\n",
    "    os.makedirs(PEOPLE_AND_BLOGS_PATH)"
   ]
  },
  {
   "cell_type": "markdown",
   "metadata": {},
   "source": [
    "#### Data Loading"
   ]
  },
  {
   "cell_type": "code",
   "execution_count": null,
   "metadata": {},
   "outputs": [],
   "source": [
    "df_channels_en = pd.read_csv(f\"{DATA_PATH}/df_channels_en.tsv.gz\", compression=\"infer\", sep=\"\\t\") \n",
    "df_timeseries_en = pd.read_csv(f\"{DATA_PATH}/df_timeseries_en.tsv.gz\", compression=\"infer\", sep=\"\\t\")\n",
    "\n",
    "df_yt_metadata_filtered = pd.read_csv(CATEGORY_FILE_PATH, compression=\"infer\")\n",
    "df_yt_metadata_filtered['upload_date'] = pd.to_datetime(df_yt_metadata_filtered['upload_date'])\n",
    "df_yt_metadata_filtered.dropna(subset=['tags'], inplace=True)"
   ]
  },
  {
   "cell_type": "code",
   "execution_count": null,
   "metadata": {},
   "outputs": [
    {
     "name": "stdout",
     "output_type": "stream",
     "text": [
      "<class 'pandas.core.frame.DataFrame'>\n",
      "RangeIndex: 136470 entries, 0 to 136469\n",
      "Data columns (total 8 columns):\n",
      " #   Column              Non-Null Count   Dtype  \n",
      "---  ------              --------------   -----  \n",
      " 0   category_cc         136342 non-null  object \n",
      " 1   join_date           136469 non-null  object \n",
      " 2   channel             136470 non-null  object \n",
      " 3   name_cc             136460 non-null  object \n",
      " 4   subscribers_cc      136470 non-null  int64  \n",
      " 5   videos_cc           136470 non-null  int64  \n",
      " 6   subscriber_rank_sb  136470 non-null  float64\n",
      " 7   weights             136470 non-null  float64\n",
      "dtypes: float64(2), int64(2), object(4)\n",
      "memory usage: 8.3+ MB\n"
     ]
    }
   ],
   "source": [
    "df_channels_en.info()"
   ]
  },
  {
   "cell_type": "code",
   "execution_count": null,
   "metadata": {},
   "outputs": [
    {
     "data": {
      "text/plain": [
       "category_cc\n",
       "Music                    24285\n",
       "Entertainment            22951\n",
       "Gaming                   20143\n",
       "People & Blogs           18413\n",
       "Howto & Style            11875\n",
       "Education                 7803\n",
       "Film and Animation        6875\n",
       "Sports                    5148\n",
       "Science & Technology      4864\n",
       "Comedy                    3767\n",
       "Autos & Vehicles          3705\n",
       "News & Politics           2263\n",
       "Travel & Events           1989\n",
       "Pets & Animals            1292\n",
       "Nonprofits & Activism      969\n",
       "Name: count, dtype: int64"
      ]
     },
     "metadata": {},
     "output_type": "display_data"
    }
   ],
   "source": [
    "df_channels_en['category_cc'].value_counts()"
   ]
  },
  {
   "cell_type": "markdown",
   "metadata": {},
   "source": [
    "These first numbers outline already a few heavyweight categories of the Youtube scene over that tiemscale, such as the Music and the Entertainment industries. Our analysis centers on the People & Blogs category due to its prominent representation and unique content dynamics. This category not only boasts a substantial channel count but also offers a diverse range of human-centric content, including personal narratives, vlogs, and informational videos. Moreover, it serves as an engagement magnet, drawing audiences seeking relatable and engaging content while fostering high interaction through comments, shares, and discussions. Additionally, People & Blogs stands out as a transition hotspot, historically attracting channels diversifying their content, making it an intriguing focal point for exploring the dynamic evolution and transitions within the YouTube ecosystem."
   ]
  },
  {
   "cell_type": "markdown",
   "metadata": {},
   "source": [
    "## The People and Blogs Category"
   ]
  },
  {
   "cell_type": "markdown",
   "metadata": {},
   "source": [
    "The People & Blogs category on YouTube serves as a diverse hub, housing a wide spectrum of content primarily centered around personal narratives, experiences, and informational dialogues. It encapsulates vlogs, storytelling, lifestyle advice, commentary, and discussion-oriented videos, offering viewers a glimpse into diverse perspectives and human experiences. Let's dive into it !"
   ]
  },
  {
   "cell_type": "code",
   "execution_count": null,
   "metadata": {},
   "outputs": [
    {
     "name": "stdout",
     "output_type": "stream",
     "text": [
      "<class 'pandas.core.frame.DataFrame'>\n",
      "Index: 18413 entries, 89 to 136469\n",
      "Data columns (total 8 columns):\n",
      " #   Column              Non-Null Count  Dtype  \n",
      "---  ------              --------------  -----  \n",
      " 0   category_cc         18413 non-null  object \n",
      " 1   join_date           18413 non-null  object \n",
      " 2   channel             18413 non-null  object \n",
      " 3   name_cc             18413 non-null  object \n",
      " 4   subscribers_cc      18413 non-null  int64  \n",
      " 5   videos_cc           18413 non-null  int64  \n",
      " 6   subscriber_rank_sb  18413 non-null  float64\n",
      " 7   weights             18413 non-null  float64\n",
      "dtypes: float64(2), int64(2), object(4)\n",
      "memory usage: 1.3+ MB\n"
     ]
    }
   ],
   "source": [
    "CATEGORY = \"People & Blogs\"\n",
    "df_people_and_blogs = df_channels_en[df_channels_en['category_cc'] == CATEGORY].copy()\n",
    "\n",
    "df_people_and_blogs.info()"
   ]
  },
  {
   "cell_type": "markdown",
   "metadata": {},
   "source": [
    "### Channel Join Dates"
   ]
  },
  {
   "cell_type": "markdown",
   "metadata": {},
   "source": [
    "We will begin our analysis with a focus on channel join dates within the People & Blogs category on YouTube. By examining these dates, we aim to uncover trends and notable periods of channel creation, potentially unveiling influential milestones or temporal patterns shaping the category's evolution."
   ]
  },
  {
   "cell_type": "code",
   "execution_count": null,
   "metadata": {},
   "outputs": [],
   "source": [
    "# extract the join date from the dataframe\n",
    "join_dates = pd.to_datetime(df_people_and_blogs['join_date'])\n",
    "\n",
    "# get join counts for each date\n",
    "join_dates_counts = join_dates.dt.date.value_counts().sort_index()\n",
    "\n",
    "fig = go.Figure()\n",
    "fig.add_trace(go.Scatter(x=join_dates_counts.index, y=join_dates_counts.values, mode='lines', name='Channel Join Dates'))\n",
    "\n",
    "# Fit LinReg\n",
    "X = np.arange(len(join_dates_counts)).reshape(-1, 1)\n",
    "y = join_dates_counts.values.reshape(-1, 1)\n",
    "model = LinearRegression().fit(X, y)\n",
    "y_pred = model.predict(X)\n",
    "\n",
    "fig.add_trace(go.Scatter(x=join_dates_counts.index, y=y_pred.flatten(), mode='lines', name='Linear Regression'))\n",
    "\n",
    "# update layout \n",
    "fig.update_layout(title='Distribution of Channel Join Dates over the Year', xaxis_title='Join Date', yaxis_title='Number of Channels')\n",
    "\n",
    "fig.show()"
   ]
  },
  {
   "cell_type": "code",
   "execution_count": null,
   "metadata": {},
   "outputs": [],
   "source": [
    "# per year plot\n",
    "df_people_and_blogs['Year'] = join_dates.dt.year\n",
    "channel_join_count = df_people_and_blogs.groupby('Year').size().reset_index(name='Channel Count')\n",
    "\n",
    "fig = px.line(channel_join_count, x='Year', y='Channel Count', title='Increase in New People & Blogs Channels Over Time')\n",
    "fig.update_traces(marker=dict(color='blue', line=dict(color='black', width=1)))\n",
    "fig.update_layout(xaxis_title='Year', yaxis_title='Number of Channels Joined')\n",
    "fig.show()"
   ]
  },
  {
   "cell_type": "markdown",
   "metadata": {},
   "source": [
    "While irregular hops punctuate the timeline, the linear regression showcases an overall increasing trend in channel creation over time. This initial analysis suggests a gradual growth or rising interest in channel creation within the category, despite intermittent fluctuations observed in specific periods."
   ]
  },
  {
   "cell_type": "markdown",
   "metadata": {},
   "source": [
    "Let's pursue this analysis by examining the channel join dates in more detail, by breaking them down by year."
   ]
  },
  {
   "cell_type": "code",
   "execution_count": null,
   "metadata": {},
   "outputs": [],
   "source": [
    "df_people_and_blogs['join_date'] = pd.to_datetime(df_people_and_blogs['join_date'])\n",
    "\n",
    "# extract year and month from join dates\n",
    "df_people_and_blogs.loc[:, 'Year'] = df_people_and_blogs['join_date'].dt.year\n",
    "df_people_and_blogs.loc[:, 'Month'] = df_people_and_blogs['join_date'].dt.month\n",
    "\n",
    "fig = px.histogram(df_people_and_blogs, x='Year', color='Month', title='Channel Join Dates Distribution by Month/Year')\n",
    "fig.update_layout(barmode='group', xaxis_title='Year', yaxis_title='Number of Channels')\n",
    "fig.show()"
   ]
  },
  {
   "cell_type": "markdown",
   "metadata": {},
   "source": [
    "These new results align with the general trend observed of increasing channel creation over time. Looking at the monthly join counts, they seem distributed relatively evenly throughout every year, with a few exceptions. The first one is the spike on October 2011, which we will explore in more detail hereafter. The second one is the missing values of channel creation in late 2019, which is likely due to the dataset's incomplete nature, as it was collected in October of that year."
   ]
  },
  {
   "cell_type": "code",
   "execution_count": null,
   "metadata": {},
   "outputs": [],
   "source": [
    "df_people_and_blogs['join_date'] = pd.to_datetime(df_people_and_blogs['join_date'])\n",
    "\n",
    "# filter data for October 2011\n",
    "october_2011 = df_people_and_blogs[(df_people_and_blogs['join_date'].dt.year == 2011) & (df_people_and_blogs['join_date'].dt.month == 10)]\n",
    "\n",
    "# Group by day and count channel joins\n",
    "daily_join_counts = october_2011['join_date'].dt.day.value_counts().sort_index()\n",
    "\n",
    "fig = px.line(x=daily_join_counts.index, y=daily_join_counts.values, title='Daily Channel Join Counts in October 2011')\n",
    "fig.update_layout(xaxis_title='Day', yaxis_title='Number of Channels Joined')\n",
    "fig.show()"
   ]
  },
  {
   "cell_type": "code",
   "execution_count": null,
   "metadata": {},
   "outputs": [],
   "source": [
    "df_channels_en['join_date'] = pd.to_datetime(df_channels_en['join_date'])\n",
    "\n",
    "# extract data for October 2011\n",
    "october_2011 = df_channels_en[(df_channels_en['join_date'].dt.year == 2011) &\n",
    "                               (df_channels_en['join_date'].dt.month == 10)]\n",
    "\n",
    "# Group by category and count channel joins for October 2011\n",
    "category_join_counts = october_2011.groupby('category_cc').size().reset_index(name='Join Counts')\n",
    "\n",
    "fig = px.bar(category_join_counts, x='category_cc', y='Join Counts', \n",
    "             title='Channel Join Counts by Category in October 2011',\n",
    "             labels={'category_cc': 'Category', 'Join Counts': 'Number of Channels Joined'},\n",
    "             color='category_cc')\n",
    "fig.update_layout(xaxis_title='Category', yaxis_title='Number of Channels')\n",
    "fig.show()"
   ]
  },
  {
   "cell_type": "code",
   "execution_count": null,
   "metadata": {},
   "outputs": [],
   "source": [
    "df_channels_en['join_date'] = pd.to_datetime(df_channels_en['join_date'])\n",
    "\n",
    "# extract data for the year 2011\n",
    "df_channels_2011 = df_channels_en[df_channels_en['join_date'].dt.year == 2011].copy()\n",
    "\n",
    "df_channels_2011.loc[:, 'Year'] = df_channels_2011['join_date'].dt.year\n",
    "df_channels_2011.loc[:, 'Month'] = df_channels_2011['join_date'].dt.month\n",
    "\n",
    "# Group by Year, Month, and Category and count channel joins for the year 2011\n",
    "category_join_counts_2011 = df_channels_2011.groupby(['Year', 'Month', 'category_cc']).size().reset_index(name='Join Counts')\n",
    "\n",
    "fig = px.bar(category_join_counts_2011, x='Month', y='Join Counts', \n",
    "             title='Channel Join Counts by Category in 2011',\n",
    "             labels={'Month': 'Month', 'Join Counts': 'Number of Channels Joined'},\n",
    "             color='category_cc', barmode='group', facet_col='Year')\n",
    "fig.update_layout(xaxis_title='Month', yaxis_title='Number of Channels')\n",
    "fig.show()"
   ]
  },
  {
   "cell_type": "markdown",
   "metadata": {},
   "source": [
    "After taking a closer look to that join spike in October 2011, we see that this increase in channel joins is not specific to the People and Blogs categories, as it is also observed in other categories. This suggests that this spike is not due to a specific event or trend in the People and Blogs category, but rather a general trend in the YouTube ecosystem."
   ]
  },
  {
   "cell_type": "markdown",
   "metadata": {},
   "source": [
    "### Average channel metrics"
   ]
  },
  {
   "cell_type": "markdown",
   "metadata": {},
   "source": [
    "Let's now take a look at the general distribution of channel metrics within the People & Blogs category, i.e. the views and subscriber counts within the category."
   ]
  },
  {
   "cell_type": "code",
   "execution_count": null,
   "metadata": {},
   "outputs": [
    {
     "name": "stdout",
     "output_type": "stream",
     "text": [
      "Average number of videos: 322.88\n",
      "Average number of subscribers: 155921.60\n"
     ]
    }
   ],
   "source": [
    "# Calculate the average values\n",
    "avg_videos = df_people_and_blogs['videos_cc'].mean()\n",
    "avg_subscribers = df_people_and_blogs['subscribers_cc'].mean()\n",
    "\n",
    "# Print the average values\n",
    "print(f'Average number of videos: {avg_videos:.2f}')\n",
    "print(f'Average number of subscribers: {avg_subscribers:.2f}')"
   ]
  },
  {
   "cell_type": "markdown",
   "metadata": {},
   "source": [
    "These values showcase a quite impressive average channel size within the People & Blogs category, with an average of 156000 subscribers and 323 videos. This is a clear indication of the category's popularity and engagement, as well as the high level of competition within the category. However, these numbers are likely skewed by a few outliers, as we can see in the following boxplots."
   ]
  },
  {
   "cell_type": "code",
   "execution_count": null,
   "metadata": {},
   "outputs": [],
   "source": [
    "# Boxplot for 'videos_cc' column\n",
    "fig_videos_box = px.box(df_people_and_blogs, y='videos_cc', title='Boxplot of Videos')\n",
    "fig_videos_box.update_traces(marker=dict(color='blue', line=dict(color='black', width=1)))\n",
    "fig_videos_box.update_layout(yaxis_title='Number of Videos')\n",
    "fig_videos_box.show()\n",
    "\n",
    "# Boxplot for 'subscribers_cc' column\n",
    "fig_subscribers_box = px.box(df_people_and_blogs, y='subscribers_cc', title='Boxplot of Subscribers')\n",
    "fig_subscribers_box.update_traces(marker=dict(color='green', line=dict(color='black', width=1)))\n",
    "fig_subscribers_box.update_layout(yaxis_title='Number of Subscribers')\n",
    "fig_subscribers_box.show()"
   ]
  },
  {
   "cell_type": "markdown",
   "metadata": {},
   "source": [
    "These plots confirm that the distribution of views and subscribers is highly skewed, with a few channels having a very high number of views and subscribers. This is a common pattern in social networks, where a few channels have a very high number of followers, while the majority of channels have a relatively low number of followers. This aligns with the findings of [James Zern](https://www.telegraph.co.uk/technology/news/8464418/Almost-all-YouTube-views-come-from-just-30-of-films.html), who stated in 2011 that 30 percent of videos accounted for 99 percent of views on the site."
   ]
  },
  {
   "cell_type": "markdown",
   "metadata": {},
   "source": [
    "### Number of Videos and Subscribers, an underlying correlation ?"
   ]
  },
  {
   "cell_type": "markdown",
   "metadata": {},
   "source": [
    "As we see quite average but very skewed values for the number of videos and subscribers, we can wonder if there is a correlation between these two metrics. Let's take a look at the scatterplot of these two metrics."
   ]
  },
  {
   "cell_type": "code",
   "execution_count": null,
   "metadata": {},
   "outputs": [],
   "source": [
    "fig = px.scatter(df_people_and_blogs, x='videos_cc', y='subscribers_cc',\n",
    "                 title='Scatter Plot of Number of Videos and Subscribers',\n",
    "                 labels={'videos_cc': 'Number of Videos', 'subscribers_cc': 'Number of Subscribers'})\n",
    "fig.update_traces(marker=dict(color='blue', size=8, line=dict(width=1, color='DarkSlateGrey')))\n",
    "fig.show()"
   ]
  },
  {
   "cell_type": "markdown",
   "metadata": {},
   "source": [
    "The above plot does not seem to indicate a clear correlation between the number of videos and the number of subscribers. However, we can see that the majority of channels have a relatively low number of videos and subscribers, while a few channels have a very high number of videos and subscribers. On the contrary, for the channels studied in our dataset, we observe that none of the most active channels in terms of their number of videos break the 2.5M subscriber mark. This could suggest a limit to the number of videos a channel can produce while maintaining a high level of quality and engagement."
   ]
  },
  {
   "cell_type": "code",
   "execution_count": null,
   "metadata": {},
   "outputs": [],
   "source": [
    "numerical_columns = ['videos_cc', 'subscribers_cc']  # Add other relevant columns if needed\n",
    "\n",
    "# Calculating the correlation matrix\n",
    "correlation_matrix = df_people_and_blogs[numerical_columns].corr()\n",
    "\n",
    "# Creating a heatmap to visualize the correlation matrix\n",
    "fig = px.imshow(correlation_matrix,\n",
    "                labels=dict(color=\"Correlation\"),\n",
    "                x=numerical_columns,\n",
    "                y=numerical_columns,\n",
    "                title='Correlation Heatmap of Numerical Columns')\n",
    "fig.update_layout(width=600, height=500)\n",
    "fig.show()"
   ]
  },
  {
   "cell_type": "markdown",
   "metadata": {},
   "source": [
    "Having explored the fundamental metrics within the People and Blogs category, let's delve into the intricacies of tag analysis. Tags play a pivotal role in content categorization and viewer engagement on YouTube. Analyzing the usage, diversity, and impact of tags can unearth valuable insights into content dynamics, audience preferences, and channel visibility. Let's investigate the tag semantics and their influence within this category to gain a deeper understanding of content strategies and audience interactions."
   ]
  },
  {
   "cell_type": "markdown",
   "metadata": {},
   "source": [
    "## Tag Semantic Analysis"
   ]
  },
  {
   "cell_type": "code",
   "execution_count": null,
   "metadata": {},
   "outputs": [],
   "source": [
    "### Trying to filter w. YouTubers using ONLY \"People and Blogs\"\n",
    "df_channels_en = pd.read_csv(os.path.join(DATA_PATH, \"df_channels_en.tsv.gz\"), compression=\"infer\", sep=\"\\t\")\n",
    "df_channels_people_blogs = df_channels_en[df_channels_en[\"category_cc\"] == CATEGORY]\n",
    "channels_people_blogs = df_channels_people_blogs[\"channel\"]\n",
    "\n",
    "# test to see if there's a difference\n",
    "df_yt_metadata_filtered = df_yt_metadata_filtered[df_yt_metadata_filtered[\"channel_id\"].isin(df_channels_people_blogs[\"channel\"])]\n",
    "df_yt_metadata_filtered = df_yt_metadata_filtered.merge(df_channels_people_blogs[[\"channel\", \"name_cc\"]], left_on=\"channel_id\", right_on=\"channel\")"
   ]
  },
  {
   "cell_type": "code",
   "execution_count": null,
   "metadata": {},
   "outputs": [
    {
     "data": {
      "text/html": [
       "<div>\n",
       "<style scoped>\n",
       "    .dataframe tbody tr th:only-of-type {\n",
       "        vertical-align: middle;\n",
       "    }\n",
       "\n",
       "    .dataframe tbody tr th {\n",
       "        vertical-align: top;\n",
       "    }\n",
       "\n",
       "    .dataframe thead th {\n",
       "        text-align: right;\n",
       "    }\n",
       "</style>\n",
       "<table border=\"1\" class=\"dataframe\">\n",
       "  <thead>\n",
       "    <tr style=\"text-align: right;\">\n",
       "      <th></th>\n",
       "      <th>categories</th>\n",
       "      <th>channel_id</th>\n",
       "      <th>crawl_date</th>\n",
       "      <th>dislike_count</th>\n",
       "      <th>display_id</th>\n",
       "      <th>duration</th>\n",
       "      <th>like_count</th>\n",
       "      <th>tags</th>\n",
       "      <th>upload_date</th>\n",
       "      <th>view_count</th>\n",
       "      <th>channel</th>\n",
       "      <th>name_cc</th>\n",
       "    </tr>\n",
       "  </thead>\n",
       "  <tbody>\n",
       "    <tr>\n",
       "      <th>0</th>\n",
       "      <td>People &amp; Blogs</td>\n",
       "      <td>UCzWmWTPCafQRNl9q9Y53AfQ</td>\n",
       "      <td>2019-11-17 05:07:30.405938</td>\n",
       "      <td>613.0</td>\n",
       "      <td>BDnF-EgqAGw</td>\n",
       "      <td>398</td>\n",
       "      <td>49464.0</td>\n",
       "      <td>vine,vines,vine compilation,chaotic good</td>\n",
       "      <td>2019-02-05</td>\n",
       "      <td>1142835.0</td>\n",
       "      <td>UCzWmWTPCafQRNl9q9Y53AfQ</td>\n",
       "      <td>SarcasmSofa</td>\n",
       "    </tr>\n",
       "    <tr>\n",
       "      <th>1</th>\n",
       "      <td>People &amp; Blogs</td>\n",
       "      <td>UCzWmWTPCafQRNl9q9Y53AfQ</td>\n",
       "      <td>2019-11-17 05:07:30.959894</td>\n",
       "      <td>588.0</td>\n",
       "      <td>wrTIXbQED80</td>\n",
       "      <td>375</td>\n",
       "      <td>32726.0</td>\n",
       "      <td>vines,vine,vine compilation,neutral good,align...</td>\n",
       "      <td>2019-01-31</td>\n",
       "      <td>819654.0</td>\n",
       "      <td>UCzWmWTPCafQRNl9q9Y53AfQ</td>\n",
       "      <td>SarcasmSofa</td>\n",
       "    </tr>\n",
       "    <tr>\n",
       "      <th>2</th>\n",
       "      <td>People &amp; Blogs</td>\n",
       "      <td>UCzWmWTPCafQRNl9q9Y53AfQ</td>\n",
       "      <td>2019-11-17 05:07:31.467288</td>\n",
       "      <td>1177.0</td>\n",
       "      <td>uyWL0ZWibyU</td>\n",
       "      <td>335</td>\n",
       "      <td>86222.0</td>\n",
       "      <td>vine,vines,vine compilation,neutral evil</td>\n",
       "      <td>2019-01-22</td>\n",
       "      <td>2159837.0</td>\n",
       "      <td>UCzWmWTPCafQRNl9q9Y53AfQ</td>\n",
       "      <td>SarcasmSofa</td>\n",
       "    </tr>\n",
       "    <tr>\n",
       "      <th>3</th>\n",
       "      <td>People &amp; Blogs</td>\n",
       "      <td>UCzWmWTPCafQRNl9q9Y53AfQ</td>\n",
       "      <td>2019-11-17 05:07:32.579907</td>\n",
       "      <td>991.0</td>\n",
       "      <td>-Ia18bqO-9w</td>\n",
       "      <td>367</td>\n",
       "      <td>75504.0</td>\n",
       "      <td>vine,vine compilation,vines,lawful good</td>\n",
       "      <td>2019-01-09</td>\n",
       "      <td>1636316.0</td>\n",
       "      <td>UCzWmWTPCafQRNl9q9Y53AfQ</td>\n",
       "      <td>SarcasmSofa</td>\n",
       "    </tr>\n",
       "    <tr>\n",
       "      <th>4</th>\n",
       "      <td>People &amp; Blogs</td>\n",
       "      <td>UCzWmWTPCafQRNl9q9Y53AfQ</td>\n",
       "      <td>2019-11-17 05:07:33.059389</td>\n",
       "      <td>12.0</td>\n",
       "      <td>xpMSymj3KGI</td>\n",
       "      <td>7500</td>\n",
       "      <td>223.0</td>\n",
       "      <td>art,memes,#hangoutsonair,Hangouts On Air,#hoa</td>\n",
       "      <td>2019-01-04</td>\n",
       "      <td>13651.0</td>\n",
       "      <td>UCzWmWTPCafQRNl9q9Y53AfQ</td>\n",
       "      <td>SarcasmSofa</td>\n",
       "    </tr>\n",
       "    <tr>\n",
       "      <th>...</th>\n",
       "      <td>...</td>\n",
       "      <td>...</td>\n",
       "      <td>...</td>\n",
       "      <td>...</td>\n",
       "      <td>...</td>\n",
       "      <td>...</td>\n",
       "      <td>...</td>\n",
       "      <td>...</td>\n",
       "      <td>...</td>\n",
       "      <td>...</td>\n",
       "      <td>...</td>\n",
       "      <td>...</td>\n",
       "    </tr>\n",
       "    <tr>\n",
       "      <th>3392306</th>\n",
       "      <td>People &amp; Blogs</td>\n",
       "      <td>UCrwRLYg4dbkrxDbbnaQd48g</td>\n",
       "      <td>2019-11-19 04:39:07.559598</td>\n",
       "      <td>0.0</td>\n",
       "      <td>QHyDyhvSuOc</td>\n",
       "      <td>162</td>\n",
       "      <td>15.0</td>\n",
       "      <td>Torah,Torah Family,Jesus,Yeshua,Yehoshua,Yahwe...</td>\n",
       "      <td>2016-03-31</td>\n",
       "      <td>348.0</td>\n",
       "      <td>UCrwRLYg4dbkrxDbbnaQd48g</td>\n",
       "      <td>Torah Family</td>\n",
       "    </tr>\n",
       "    <tr>\n",
       "      <th>3392307</th>\n",
       "      <td>People &amp; Blogs</td>\n",
       "      <td>UCrwRLYg4dbkrxDbbnaQd48g</td>\n",
       "      <td>2019-11-19 04:39:08.185420</td>\n",
       "      <td>1.0</td>\n",
       "      <td>Z3mXSYy3qBk</td>\n",
       "      <td>165</td>\n",
       "      <td>19.0</td>\n",
       "      <td>Torah,Torah Family,Jesus,Yeshua,Yehoshua,Yahwe...</td>\n",
       "      <td>2016-03-31</td>\n",
       "      <td>426.0</td>\n",
       "      <td>UCrwRLYg4dbkrxDbbnaQd48g</td>\n",
       "      <td>Torah Family</td>\n",
       "    </tr>\n",
       "    <tr>\n",
       "      <th>3392308</th>\n",
       "      <td>People &amp; Blogs</td>\n",
       "      <td>UCrwRLYg4dbkrxDbbnaQd48g</td>\n",
       "      <td>2019-11-19 04:39:08.838684</td>\n",
       "      <td>0.0</td>\n",
       "      <td>fiHAotJWQ1k</td>\n",
       "      <td>148</td>\n",
       "      <td>29.0</td>\n",
       "      <td>Torah,Torah Family,Jesus,Yeshua,Yehoshua,Yahwe...</td>\n",
       "      <td>2016-03-31</td>\n",
       "      <td>659.0</td>\n",
       "      <td>UCrwRLYg4dbkrxDbbnaQd48g</td>\n",
       "      <td>Torah Family</td>\n",
       "    </tr>\n",
       "    <tr>\n",
       "      <th>3392309</th>\n",
       "      <td>People &amp; Blogs</td>\n",
       "      <td>UCrwRLYg4dbkrxDbbnaQd48g</td>\n",
       "      <td>2019-11-19 04:39:09.457828</td>\n",
       "      <td>1.0</td>\n",
       "      <td>-sVZEtcIB0I</td>\n",
       "      <td>188</td>\n",
       "      <td>32.0</td>\n",
       "      <td>Torah,Torah Family,Jesus,Yeshua,Yehoshua,Yahwe...</td>\n",
       "      <td>2016-03-31</td>\n",
       "      <td>863.0</td>\n",
       "      <td>UCrwRLYg4dbkrxDbbnaQd48g</td>\n",
       "      <td>Torah Family</td>\n",
       "    </tr>\n",
       "    <tr>\n",
       "      <th>3392310</th>\n",
       "      <td>People &amp; Blogs</td>\n",
       "      <td>UCrwRLYg4dbkrxDbbnaQd48g</td>\n",
       "      <td>2019-11-19 04:39:10.087725</td>\n",
       "      <td>1.0</td>\n",
       "      <td>Wi4dcBmmzK8</td>\n",
       "      <td>144</td>\n",
       "      <td>137.0</td>\n",
       "      <td>Torah,Reverse Thinking,Returning to the Father...</td>\n",
       "      <td>2016-03-18</td>\n",
       "      <td>2528.0</td>\n",
       "      <td>UCrwRLYg4dbkrxDbbnaQd48g</td>\n",
       "      <td>Torah Family</td>\n",
       "    </tr>\n",
       "  </tbody>\n",
       "</table>\n",
       "<p>3392311 rows × 12 columns</p>\n",
       "</div>"
      ],
      "text/plain": [
       "             categories                channel_id                  crawl_date  \\\n",
       "0        People & Blogs  UCzWmWTPCafQRNl9q9Y53AfQ  2019-11-17 05:07:30.405938   \n",
       "1        People & Blogs  UCzWmWTPCafQRNl9q9Y53AfQ  2019-11-17 05:07:30.959894   \n",
       "2        People & Blogs  UCzWmWTPCafQRNl9q9Y53AfQ  2019-11-17 05:07:31.467288   \n",
       "3        People & Blogs  UCzWmWTPCafQRNl9q9Y53AfQ  2019-11-17 05:07:32.579907   \n",
       "4        People & Blogs  UCzWmWTPCafQRNl9q9Y53AfQ  2019-11-17 05:07:33.059389   \n",
       "...                 ...                       ...                         ...   \n",
       "3392306  People & Blogs  UCrwRLYg4dbkrxDbbnaQd48g  2019-11-19 04:39:07.559598   \n",
       "3392307  People & Blogs  UCrwRLYg4dbkrxDbbnaQd48g  2019-11-19 04:39:08.185420   \n",
       "3392308  People & Blogs  UCrwRLYg4dbkrxDbbnaQd48g  2019-11-19 04:39:08.838684   \n",
       "3392309  People & Blogs  UCrwRLYg4dbkrxDbbnaQd48g  2019-11-19 04:39:09.457828   \n",
       "3392310  People & Blogs  UCrwRLYg4dbkrxDbbnaQd48g  2019-11-19 04:39:10.087725   \n",
       "\n",
       "         dislike_count   display_id  duration  like_count  \\\n",
       "0                613.0  BDnF-EgqAGw       398     49464.0   \n",
       "1                588.0  wrTIXbQED80       375     32726.0   \n",
       "2               1177.0  uyWL0ZWibyU       335     86222.0   \n",
       "3                991.0  -Ia18bqO-9w       367     75504.0   \n",
       "4                 12.0  xpMSymj3KGI      7500       223.0   \n",
       "...                ...          ...       ...         ...   \n",
       "3392306            0.0  QHyDyhvSuOc       162        15.0   \n",
       "3392307            1.0  Z3mXSYy3qBk       165        19.0   \n",
       "3392308            0.0  fiHAotJWQ1k       148        29.0   \n",
       "3392309            1.0  -sVZEtcIB0I       188        32.0   \n",
       "3392310            1.0  Wi4dcBmmzK8       144       137.0   \n",
       "\n",
       "                                                      tags upload_date  \\\n",
       "0                 vine,vines,vine compilation,chaotic good  2019-02-05   \n",
       "1        vines,vine,vine compilation,neutral good,align...  2019-01-31   \n",
       "2                 vine,vines,vine compilation,neutral evil  2019-01-22   \n",
       "3                  vine,vine compilation,vines,lawful good  2019-01-09   \n",
       "4            art,memes,#hangoutsonair,Hangouts On Air,#hoa  2019-01-04   \n",
       "...                                                    ...         ...   \n",
       "3392306  Torah,Torah Family,Jesus,Yeshua,Yehoshua,Yahwe...  2016-03-31   \n",
       "3392307  Torah,Torah Family,Jesus,Yeshua,Yehoshua,Yahwe...  2016-03-31   \n",
       "3392308  Torah,Torah Family,Jesus,Yeshua,Yehoshua,Yahwe...  2016-03-31   \n",
       "3392309  Torah,Torah Family,Jesus,Yeshua,Yehoshua,Yahwe...  2016-03-31   \n",
       "3392310  Torah,Reverse Thinking,Returning to the Father...  2016-03-18   \n",
       "\n",
       "         view_count                   channel       name_cc  \n",
       "0         1142835.0  UCzWmWTPCafQRNl9q9Y53AfQ   SarcasmSofa  \n",
       "1          819654.0  UCzWmWTPCafQRNl9q9Y53AfQ   SarcasmSofa  \n",
       "2         2159837.0  UCzWmWTPCafQRNl9q9Y53AfQ   SarcasmSofa  \n",
       "3         1636316.0  UCzWmWTPCafQRNl9q9Y53AfQ   SarcasmSofa  \n",
       "4           13651.0  UCzWmWTPCafQRNl9q9Y53AfQ   SarcasmSofa  \n",
       "...             ...                       ...           ...  \n",
       "3392306       348.0  UCrwRLYg4dbkrxDbbnaQd48g  Torah Family  \n",
       "3392307       426.0  UCrwRLYg4dbkrxDbbnaQd48g  Torah Family  \n",
       "3392308       659.0  UCrwRLYg4dbkrxDbbnaQd48g  Torah Family  \n",
       "3392309       863.0  UCrwRLYg4dbkrxDbbnaQd48g  Torah Family  \n",
       "3392310      2528.0  UCrwRLYg4dbkrxDbbnaQd48g  Torah Family  \n",
       "\n",
       "[3392311 rows x 12 columns]"
      ]
     },
     "metadata": {},
     "output_type": "display_data"
    }
   ],
   "source": [
    "df_yt_metadata_filtered"
   ]
  },
  {
   "cell_type": "markdown",
   "metadata": {},
   "source": [
    "### Tags Evolution in People & Blogs\n",
    "Let us begin by looking at the evolution of tags within the People & Blogs category.\n",
    "\n",
    "#### Number of Tags Listed Per Year"
   ]
  },
  {
   "cell_type": "code",
   "execution_count": null,
   "metadata": {},
   "outputs": [],
   "source": [
    "df_yt_metadata_filtered['tag_count'] = df_yt_metadata_filtered['tags'].astype(str).apply(lambda x: len(x.split(',')))"
   ]
  },
  {
   "cell_type": "code",
   "execution_count": null,
   "metadata": {},
   "outputs": [],
   "source": [
    "tag_count_per_year = df_yt_metadata_filtered.groupby(df_yt_metadata_filtered[\"upload_date\"].dt.year)['tag_count'].sum()\n",
    "\n",
    "fig = px.bar(\n",
    "    x=tag_count_per_year.index,\n",
    "    y=tag_count_per_year.values,\n",
    "    title=\"Total Number of Tags In The People & Blogs Category per Year (2006-2019)\",\n",
    "    labels={\"x\": \"Year\", \"y\": \"Total Number of Tags of Videos Per Year\"},\n",
    "    opacity=0.6,\n",
    "    log_y = False\n",
    ")\n",
    "\n",
    "#pyo.plot(fig, filename='number_of_tags.html')\n",
    "fig.show()"
   ]
  },
  {
   "cell_type": "markdown",
   "metadata": {},
   "source": [
    "The number of tags within People & Blogs shows a general upward trend over the years, with a peak in 2016 followed by a slight decrease in 2018. This pattern reveals an evolving recognition among YouTubers of the significance of tags in enhancing their videos' discoverability and visibility, thereby potentially elevating their status within their respective subcategories. The trend underscores a growing awareness that adept tagging can be a critical factor in the quest for popularity on the platform.\n",
    "\n",
    "Now, let us look at the distribution of tags used for YouTube videos within People & Blogs. "
   ]
  },
  {
   "cell_type": "markdown",
   "metadata": {},
   "source": [
    "#### Distribution of Tags Counts"
   ]
  },
  {
   "cell_type": "code",
   "execution_count": null,
   "metadata": {},
   "outputs": [],
   "source": [
    "fig = px.histogram(df_yt_metadata_filtered, x='tag_count', nbins=500, title='Distribution of Tag Counts')\n",
    "fig.update_layout(xaxis_title='Tag Count', yaxis_title='Frequency')\n",
    "fig.show()\n",
    "\n",
    "#pyo.plot(fig, filename='distribution_of_tags.html')\n"
   ]
  },
  {
   "cell_type": "markdown",
   "metadata": {},
   "source": [
    "The distribution of tags is skewed to the right, showing that a larger number of videos have fewer tags, with the frequency diminishing as the number of tags increases. Most videos have a tag count in the lower range, with very few reaching towards the higher end of the spectrum; one video even has a tag count of over 100! According to YouTube's policy for tags \n",
    "\n",
    "\"*Don't add too many tags in a single video or playlist. The more tags you add, the less relevant they become for viewers or listeners who are searching*\",\n",
    "\n",
    "which the YouTubers within People & Blogs seem to be adhering to this policy as the majority of videos contain less than 15 tags. \n",
    "\n",
    "Now let's look at how the average number of tags per video each year"
   ]
  },
  {
   "cell_type": "markdown",
   "metadata": {},
   "source": [
    "#### Average Number of Tags Per Year "
   ]
  },
  {
   "cell_type": "code",
   "execution_count": null,
   "metadata": {},
   "outputs": [],
   "source": [
    "# Calculate the mean number of tags per year\n",
    "mean_tag_count_per_year = df_yt_metadata_filtered.groupby(df_yt_metadata_filtered[\"upload_date\"].dt.year)['tag_count'].mean()\n",
    "\n",
    "# Create the line plot with dots\n",
    "fig = px.line(mean_tag_count_per_year, markers=True, title=\"Average Number of Tags Per Year\")\n",
    "fig.update_layout(showlegend=False, xaxis_title=\"Year\", yaxis_title=\"Average Number of Tags\")\n",
    "\n",
    "#pyo.plot(fig, filename='avg_number_of_tags.html')\n",
    "fig.show()"
   ]
  },
  {
   "cell_type": "markdown",
   "metadata": {},
   "source": [
    "In 2006, the average number of tags per video was 10. But over the next few years, the trend began to shift. By 2013, that number had increased greatly to a peak of roughly 17 tags per video. And even beyond 2010, the graph shows that people consistently added more or less 15 tags in their video."
   ]
  },
  {
   "cell_type": "markdown",
   "metadata": {},
   "source": [
    "#### What are the most frequently used keywords used in the tags for the People & Blogs category"
   ]
  },
  {
   "cell_type": "code",
   "execution_count": null,
   "metadata": {},
   "outputs": [],
   "source": [
    "people_blogs_tags = df_yt_metadata_filtered[\"tags\"]\n",
    "people_blogs_tags = people_blogs_tags.dropna().apply(lambda x: x.split(','))\n",
    "all_tags = [tag for sublist in people_blogs_tags for tag in sublist]\n",
    "tag_counts = Counter(all_tags)\n",
    "most_common_tags = tag_counts.most_common(25) "
   ]
  },
  {
   "cell_type": "code",
   "execution_count": null,
   "metadata": {},
   "outputs": [],
   "source": [
    "categories, counts = zip(*most_common_tags)\n",
    "fig = go.Figure(data=[go.Bar(y=categories, x=counts, orientation='h')])\n",
    "fig.update_layout(\n",
    "    title='Most Used Tags in People & Blogs Category',\n",
    "    xaxis_title='Tags Counts',\n",
    "    yaxis_title='Tags',\n",
    "    yaxis=dict(autorange=\"reversed\")\n",
    ")\n",
    "\n",
    "# save plot\n",
    "#pyo.plot(fig, filename='most_used_tags.html')\n",
    "\n",
    "# Show the plot\n",
    "fig.show()\n",
    "\n",
    "\n"
   ]
  },
  {
   "cell_type": "markdown",
   "metadata": {},
   "source": [
    "\"Vlog\" is the most popular tag, with the highest count, indicating that it is the most frequently occurring or perhaps the most tagged within the \"Blogs & People\" category. However, \"vlog\" is also accompanied by its' other word classes such as \"vlogger\", \"vlogging\" etc. The counts generally decrease for other subcategories like \"funny\", \"family\", \"love\", and so on, showing a declining order of prevalence. This suggests that while vlogging is the dominant type of content, there is still a significant diversity of topics that creators focus on within this category."
   ]
  },
  {
   "cell_type": "markdown",
   "metadata": {},
   "source": [
    "#### Let's Find The Most Common Tags within Each Channel and All of their Videos"
   ]
  },
  {
   "cell_type": "code",
   "execution_count": null,
   "metadata": {},
   "outputs": [
    {
     "data": {
      "application/vnd.plotly.v1+json": {
       "config": {
        "plotlyServerURL": "https://plot.ly"
       },
       "data": [
        {
         "name": "Roman Atwood Vlogs",
         "type": "bar",
         "x": [
          "family vlogs",
          "roman atwood vlogs",
          "family friendly"
         ],
         "y": [
          1464,
          1458,
          1454
         ]
        },
        {
         "name": "TED",
         "type": "bar",
         "x": [
          "TEDTalks",
          "TEDTalk",
          "TED Talks"
         ],
         "y": [
          437,
          379,
          275
         ]
        },
        {
         "name": "The ACE Family",
         "type": "bar",
         "x": [
          "the ace family",
          "ace family",
          "ace family vlogs"
         ],
         "y": [
          286,
          263,
          54
         ]
        },
        {
         "name": "Jake Paul",
         "type": "bar",
         "x": [
          "paul",
          "logan",
          "daily"
         ],
         "y": [
          705,
          681,
          680
         ]
        },
        {
         "name": "BuzzFeedVideo",
         "type": "bar",
         "x": [
          "buzzfeed",
          "buzzfeedvideo",
          "buzzfeed video"
         ],
         "y": [
          2550,
          2159,
          876
         ]
        }
       ],
       "layout": {
        "barmode": "stack",
        "template": {
         "data": {
          "bar": [
           {
            "error_x": {
             "color": "#2a3f5f"
            },
            "error_y": {
             "color": "#2a3f5f"
            },
            "marker": {
             "line": {
              "color": "#E5ECF6",
              "width": 0.5
             },
             "pattern": {
              "fillmode": "overlay",
              "size": 10,
              "solidity": 0.2
             }
            },
            "type": "bar"
           }
          ],
          "barpolar": [
           {
            "marker": {
             "line": {
              "color": "#E5ECF6",
              "width": 0.5
             },
             "pattern": {
              "fillmode": "overlay",
              "size": 10,
              "solidity": 0.2
             }
            },
            "type": "barpolar"
           }
          ],
          "carpet": [
           {
            "aaxis": {
             "endlinecolor": "#2a3f5f",
             "gridcolor": "white",
             "linecolor": "white",
             "minorgridcolor": "white",
             "startlinecolor": "#2a3f5f"
            },
            "baxis": {
             "endlinecolor": "#2a3f5f",
             "gridcolor": "white",
             "linecolor": "white",
             "minorgridcolor": "white",
             "startlinecolor": "#2a3f5f"
            },
            "type": "carpet"
           }
          ],
          "choropleth": [
           {
            "colorbar": {
             "outlinewidth": 0,
             "ticks": ""
            },
            "type": "choropleth"
           }
          ],
          "contour": [
           {
            "colorbar": {
             "outlinewidth": 0,
             "ticks": ""
            },
            "colorscale": [
             [
              0,
              "#0d0887"
             ],
             [
              0.1111111111111111,
              "#46039f"
             ],
             [
              0.2222222222222222,
              "#7201a8"
             ],
             [
              0.3333333333333333,
              "#9c179e"
             ],
             [
              0.4444444444444444,
              "#bd3786"
             ],
             [
              0.5555555555555556,
              "#d8576b"
             ],
             [
              0.6666666666666666,
              "#ed7953"
             ],
             [
              0.7777777777777778,
              "#fb9f3a"
             ],
             [
              0.8888888888888888,
              "#fdca26"
             ],
             [
              1,
              "#f0f921"
             ]
            ],
            "type": "contour"
           }
          ],
          "contourcarpet": [
           {
            "colorbar": {
             "outlinewidth": 0,
             "ticks": ""
            },
            "type": "contourcarpet"
           }
          ],
          "heatmap": [
           {
            "colorbar": {
             "outlinewidth": 0,
             "ticks": ""
            },
            "colorscale": [
             [
              0,
              "#0d0887"
             ],
             [
              0.1111111111111111,
              "#46039f"
             ],
             [
              0.2222222222222222,
              "#7201a8"
             ],
             [
              0.3333333333333333,
              "#9c179e"
             ],
             [
              0.4444444444444444,
              "#bd3786"
             ],
             [
              0.5555555555555556,
              "#d8576b"
             ],
             [
              0.6666666666666666,
              "#ed7953"
             ],
             [
              0.7777777777777778,
              "#fb9f3a"
             ],
             [
              0.8888888888888888,
              "#fdca26"
             ],
             [
              1,
              "#f0f921"
             ]
            ],
            "type": "heatmap"
           }
          ],
          "heatmapgl": [
           {
            "colorbar": {
             "outlinewidth": 0,
             "ticks": ""
            },
            "colorscale": [
             [
              0,
              "#0d0887"
             ],
             [
              0.1111111111111111,
              "#46039f"
             ],
             [
              0.2222222222222222,
              "#7201a8"
             ],
             [
              0.3333333333333333,
              "#9c179e"
             ],
             [
              0.4444444444444444,
              "#bd3786"
             ],
             [
              0.5555555555555556,
              "#d8576b"
             ],
             [
              0.6666666666666666,
              "#ed7953"
             ],
             [
              0.7777777777777778,
              "#fb9f3a"
             ],
             [
              0.8888888888888888,
              "#fdca26"
             ],
             [
              1,
              "#f0f921"
             ]
            ],
            "type": "heatmapgl"
           }
          ],
          "histogram": [
           {
            "marker": {
             "pattern": {
              "fillmode": "overlay",
              "size": 10,
              "solidity": 0.2
             }
            },
            "type": "histogram"
           }
          ],
          "histogram2d": [
           {
            "colorbar": {
             "outlinewidth": 0,
             "ticks": ""
            },
            "colorscale": [
             [
              0,
              "#0d0887"
             ],
             [
              0.1111111111111111,
              "#46039f"
             ],
             [
              0.2222222222222222,
              "#7201a8"
             ],
             [
              0.3333333333333333,
              "#9c179e"
             ],
             [
              0.4444444444444444,
              "#bd3786"
             ],
             [
              0.5555555555555556,
              "#d8576b"
             ],
             [
              0.6666666666666666,
              "#ed7953"
             ],
             [
              0.7777777777777778,
              "#fb9f3a"
             ],
             [
              0.8888888888888888,
              "#fdca26"
             ],
             [
              1,
              "#f0f921"
             ]
            ],
            "type": "histogram2d"
           }
          ],
          "histogram2dcontour": [
           {
            "colorbar": {
             "outlinewidth": 0,
             "ticks": ""
            },
            "colorscale": [
             [
              0,
              "#0d0887"
             ],
             [
              0.1111111111111111,
              "#46039f"
             ],
             [
              0.2222222222222222,
              "#7201a8"
             ],
             [
              0.3333333333333333,
              "#9c179e"
             ],
             [
              0.4444444444444444,
              "#bd3786"
             ],
             [
              0.5555555555555556,
              "#d8576b"
             ],
             [
              0.6666666666666666,
              "#ed7953"
             ],
             [
              0.7777777777777778,
              "#fb9f3a"
             ],
             [
              0.8888888888888888,
              "#fdca26"
             ],
             [
              1,
              "#f0f921"
             ]
            ],
            "type": "histogram2dcontour"
           }
          ],
          "mesh3d": [
           {
            "colorbar": {
             "outlinewidth": 0,
             "ticks": ""
            },
            "type": "mesh3d"
           }
          ],
          "parcoords": [
           {
            "line": {
             "colorbar": {
              "outlinewidth": 0,
              "ticks": ""
             }
            },
            "type": "parcoords"
           }
          ],
          "pie": [
           {
            "automargin": true,
            "type": "pie"
           }
          ],
          "scatter": [
           {
            "fillpattern": {
             "fillmode": "overlay",
             "size": 10,
             "solidity": 0.2
            },
            "type": "scatter"
           }
          ],
          "scatter3d": [
           {
            "line": {
             "colorbar": {
              "outlinewidth": 0,
              "ticks": ""
             }
            },
            "marker": {
             "colorbar": {
              "outlinewidth": 0,
              "ticks": ""
             }
            },
            "type": "scatter3d"
           }
          ],
          "scattercarpet": [
           {
            "marker": {
             "colorbar": {
              "outlinewidth": 0,
              "ticks": ""
             }
            },
            "type": "scattercarpet"
           }
          ],
          "scattergeo": [
           {
            "marker": {
             "colorbar": {
              "outlinewidth": 0,
              "ticks": ""
             }
            },
            "type": "scattergeo"
           }
          ],
          "scattergl": [
           {
            "marker": {
             "colorbar": {
              "outlinewidth": 0,
              "ticks": ""
             }
            },
            "type": "scattergl"
           }
          ],
          "scattermapbox": [
           {
            "marker": {
             "colorbar": {
              "outlinewidth": 0,
              "ticks": ""
             }
            },
            "type": "scattermapbox"
           }
          ],
          "scatterpolar": [
           {
            "marker": {
             "colorbar": {
              "outlinewidth": 0,
              "ticks": ""
             }
            },
            "type": "scatterpolar"
           }
          ],
          "scatterpolargl": [
           {
            "marker": {
             "colorbar": {
              "outlinewidth": 0,
              "ticks": ""
             }
            },
            "type": "scatterpolargl"
           }
          ],
          "scatterternary": [
           {
            "marker": {
             "colorbar": {
              "outlinewidth": 0,
              "ticks": ""
             }
            },
            "type": "scatterternary"
           }
          ],
          "surface": [
           {
            "colorbar": {
             "outlinewidth": 0,
             "ticks": ""
            },
            "colorscale": [
             [
              0,
              "#0d0887"
             ],
             [
              0.1111111111111111,
              "#46039f"
             ],
             [
              0.2222222222222222,
              "#7201a8"
             ],
             [
              0.3333333333333333,
              "#9c179e"
             ],
             [
              0.4444444444444444,
              "#bd3786"
             ],
             [
              0.5555555555555556,
              "#d8576b"
             ],
             [
              0.6666666666666666,
              "#ed7953"
             ],
             [
              0.7777777777777778,
              "#fb9f3a"
             ],
             [
              0.8888888888888888,
              "#fdca26"
             ],
             [
              1,
              "#f0f921"
             ]
            ],
            "type": "surface"
           }
          ],
          "table": [
           {
            "cells": {
             "fill": {
              "color": "#EBF0F8"
             },
             "line": {
              "color": "white"
             }
            },
            "header": {
             "fill": {
              "color": "#C8D4E3"
             },
             "line": {
              "color": "white"
             }
            },
            "type": "table"
           }
          ]
         },
         "layout": {
          "annotationdefaults": {
           "arrowcolor": "#2a3f5f",
           "arrowhead": 0,
           "arrowwidth": 1
          },
          "autotypenumbers": "strict",
          "coloraxis": {
           "colorbar": {
            "outlinewidth": 0,
            "ticks": ""
           }
          },
          "colorscale": {
           "diverging": [
            [
             0,
             "#8e0152"
            ],
            [
             0.1,
             "#c51b7d"
            ],
            [
             0.2,
             "#de77ae"
            ],
            [
             0.3,
             "#f1b6da"
            ],
            [
             0.4,
             "#fde0ef"
            ],
            [
             0.5,
             "#f7f7f7"
            ],
            [
             0.6,
             "#e6f5d0"
            ],
            [
             0.7,
             "#b8e186"
            ],
            [
             0.8,
             "#7fbc41"
            ],
            [
             0.9,
             "#4d9221"
            ],
            [
             1,
             "#276419"
            ]
           ],
           "sequential": [
            [
             0,
             "#0d0887"
            ],
            [
             0.1111111111111111,
             "#46039f"
            ],
            [
             0.2222222222222222,
             "#7201a8"
            ],
            [
             0.3333333333333333,
             "#9c179e"
            ],
            [
             0.4444444444444444,
             "#bd3786"
            ],
            [
             0.5555555555555556,
             "#d8576b"
            ],
            [
             0.6666666666666666,
             "#ed7953"
            ],
            [
             0.7777777777777778,
             "#fb9f3a"
            ],
            [
             0.8888888888888888,
             "#fdca26"
            ],
            [
             1,
             "#f0f921"
            ]
           ],
           "sequentialminus": [
            [
             0,
             "#0d0887"
            ],
            [
             0.1111111111111111,
             "#46039f"
            ],
            [
             0.2222222222222222,
             "#7201a8"
            ],
            [
             0.3333333333333333,
             "#9c179e"
            ],
            [
             0.4444444444444444,
             "#bd3786"
            ],
            [
             0.5555555555555556,
             "#d8576b"
            ],
            [
             0.6666666666666666,
             "#ed7953"
            ],
            [
             0.7777777777777778,
             "#fb9f3a"
            ],
            [
             0.8888888888888888,
             "#fdca26"
            ],
            [
             1,
             "#f0f921"
            ]
           ]
          },
          "colorway": [
           "#636efa",
           "#EF553B",
           "#00cc96",
           "#ab63fa",
           "#FFA15A",
           "#19d3f3",
           "#FF6692",
           "#B6E880",
           "#FF97FF",
           "#FECB52"
          ],
          "font": {
           "color": "#2a3f5f"
          },
          "geo": {
           "bgcolor": "white",
           "lakecolor": "white",
           "landcolor": "#E5ECF6",
           "showlakes": true,
           "showland": true,
           "subunitcolor": "white"
          },
          "hoverlabel": {
           "align": "left"
          },
          "hovermode": "closest",
          "mapbox": {
           "style": "light"
          },
          "paper_bgcolor": "white",
          "plot_bgcolor": "#E5ECF6",
          "polar": {
           "angularaxis": {
            "gridcolor": "white",
            "linecolor": "white",
            "ticks": ""
           },
           "bgcolor": "#E5ECF6",
           "radialaxis": {
            "gridcolor": "white",
            "linecolor": "white",
            "ticks": ""
           }
          },
          "scene": {
           "xaxis": {
            "backgroundcolor": "#E5ECF6",
            "gridcolor": "white",
            "gridwidth": 2,
            "linecolor": "white",
            "showbackground": true,
            "ticks": "",
            "zerolinecolor": "white"
           },
           "yaxis": {
            "backgroundcolor": "#E5ECF6",
            "gridcolor": "white",
            "gridwidth": 2,
            "linecolor": "white",
            "showbackground": true,
            "ticks": "",
            "zerolinecolor": "white"
           },
           "zaxis": {
            "backgroundcolor": "#E5ECF6",
            "gridcolor": "white",
            "gridwidth": 2,
            "linecolor": "white",
            "showbackground": true,
            "ticks": "",
            "zerolinecolor": "white"
           }
          },
          "shapedefaults": {
           "line": {
            "color": "#2a3f5f"
           }
          },
          "ternary": {
           "aaxis": {
            "gridcolor": "white",
            "linecolor": "white",
            "ticks": ""
           },
           "baxis": {
            "gridcolor": "white",
            "linecolor": "white",
            "ticks": ""
           },
           "bgcolor": "#E5ECF6",
           "caxis": {
            "gridcolor": "white",
            "linecolor": "white",
            "ticks": ""
           }
          },
          "title": {
           "x": 0.05
          },
          "xaxis": {
           "automargin": true,
           "gridcolor": "white",
           "linecolor": "white",
           "ticks": "",
           "title": {
            "standoff": 15
           },
           "zerolinecolor": "white",
           "zerolinewidth": 2
          },
          "yaxis": {
           "automargin": true,
           "gridcolor": "white",
           "linecolor": "white",
           "ticks": "",
           "title": {
            "standoff": 15
           },
           "zerolinecolor": "white",
           "zerolinewidth": 2
          }
         }
        },
        "title": {
         "text": "Most Common Tags Used By the Top Subscribed YouTubers in People & Blogs Category"
        },
        "xaxis": {
         "title": {
          "text": "Tags"
         }
        },
        "yaxis": {
         "title": {
          "text": "Tag Counts"
         }
        }
       }
      }
     },
     "metadata": {},
     "output_type": "display_data"
    },
    {
     "name": "stdout",
     "output_type": "stream",
     "text": [
      "Youtuber: Roman Atwood Vlogs and number of videos: 1596\n",
      "Youtuber: TED and number of videos: 552\n",
      "Youtuber: The ACE Family and number of videos: 456\n",
      "Youtuber: Jake Paul and number of videos: 793\n",
      "Youtuber: BuzzFeedVideo and number of videos: 3501\n"
     ]
    }
   ],
   "source": [
    "def plot_common_tags(num_most_common_tags, num_top_channels, df_yt_metadata_filtered, df_channels_en, category):\n",
    "    tags_df = df_yt_metadata_filtered.groupby('channel_id')['tags'].apply(lambda x: ','.join(x)).reset_index()\n",
    "    tags_df['tags'] = tags_df['tags'].apply(lambda x: x.split(','))\n",
    "    tags_df['tag_counts'] = tags_df['tags'].apply(lambda x: Counter(x))\n",
    "    tags_df['most_common_tags'] = tags_df['tag_counts'].apply(lambda x: x.most_common(num_most_common_tags))\n",
    "    tags_df['num_videos'] = df_yt_metadata_filtered.groupby('channel_id').size().reset_index(name='num_videos')['num_videos']\n",
    "\n",
    "\n",
    "    df_channels_people_blogs = df_channels_en[df_channels_en[\"category_cc\"] == category]\n",
    "    top_channels = df_channels_people_blogs.sort_values(by='subscribers_cc', ascending=False).head(num_top_channels)\n",
    "    top_channels_tags = tags_df[tags_df[\"channel_id\"].isin(top_channels[\"channel\"])]\n",
    "    top_channels_tags = top_channels_tags.merge(top_channels[[\"channel\", \"name_cc\"]], left_on=\"channel_id\", right_on=\"channel\")\n",
    "\n",
    "    data = []\n",
    "    for index, row in top_channels_tags.iterrows():\n",
    "        channel_name = row['name_cc']\n",
    "        most_common_tags = row['most_common_tags']\n",
    "        tags, counts = zip(*most_common_tags)\n",
    "        trace = go.Bar(x=tags, y=counts, name=channel_name)\n",
    "        data.append(trace)\n",
    "\n",
    "    layout = go.Layout(\n",
    "        title='Most Common Tags Used By the Top Subscribed YouTubers in People & Blogs Category',\n",
    "        xaxis=dict(title='Tags'),\n",
    "        yaxis=dict(title='Tag Counts'),\n",
    "        barmode='stack'\n",
    "    )\n",
    "    fig = go.Figure(data=data, layout=layout)\n",
    "    fig.show()\n",
    "    pyo.plot(fig, filename='most_common_tags.html')\n",
    "    for index, row in top_channels_tags.iterrows():\n",
    "        print(\"Youtuber:\", row['name_cc'], \"and number of videos:\", row['num_videos'])\n",
    "        \n",
    "        \n",
    "df_channels_en = pd.read_csv(os.path.join(DATA_PATH, \"df_channels_en.tsv.gz\"), compression=\"infer\", sep=\"\\t\")\n",
    "plot_common_tags(3, 5, df_yt_metadata_filtered, df_channels_en, CATEGORY)"
   ]
  },
  {
   "cell_type": "markdown",
   "metadata": {},
   "source": [
    "Channels such as \"Roman Atwood Vlogs,\" \"TED,\" \"The ACE Family,\" \"Jake Paul,\" and \"BuzzFeedVideo\" are represented here, each with a unique color. Tags related to family and daily vlogging, like \"family vlogs,\" \"kid-friendly,\" and \"daily vlogger,\" are quite common, especially for \"Roman Atwood Vlogs.\" \"TED\" is associated with educational tags like \"TEDTalks,\" \"TED Talk,\" and \"TED Culture.\". A noteworthy observation across the spectrum is the strategic use of channel names as tags, underscoring a common practice among YouTubers to enhance visibility and brand recognition."
   ]
  },
  {
   "cell_type": "code",
   "execution_count": null,
   "metadata": {},
   "outputs": [],
   "source": [
    "def plot_word_clouds(num_top_channels, df_yt_metadata_filtered, df_channels_en, category):\n",
    "    # Group the dataframe by channel_id and aggregate the tags\n",
    "    tags_df = df_yt_metadata_filtered.groupby('channel_id')['tags'].apply(lambda x: ','.join(x)).reset_index()\n",
    "    tags_df['tags'] = tags_df['tags'].apply(lambda x: x.split(','))\n",
    "    tags_df['tag_counts'] = tags_df['tags'].apply(lambda x: Counter(x))\n",
    "    tags_df['most_common_tags'] = tags_df['tag_counts'].apply(lambda x: x.most_common())\n",
    "\n",
    "    # Filter the channels by category and select the top channels by subscribers\n",
    "    df_channels_people_blogs = df_channels_en[df_channels_en[\"category_cc\"] == category]\n",
    "    top_channels = df_channels_people_blogs.sort_values(by='subscribers_cc', ascending=False).head(num_top_channels)\n",
    "    top_channels_tags = tags_df[tags_df[\"channel_id\"].isin(top_channels[\"channel\"])]\n",
    "    top_channels_tags = top_channels_tags.merge(top_channels[[\"channel\", \"name_cc\"]], left_on=\"channel_id\", right_on=\"channel\")\n",
    "\n",
    "    # Create the word cloud for each channel\n",
    "    for index, row in top_channels_tags.iterrows():\n",
    "        channel_name = row['name_cc']\n",
    "        most_common_tags = row['most_common_tags']\n",
    "        tag_counts = dict(most_common_tags)\n",
    "        wordcloud = WordCloud().generate_from_frequencies(tag_counts)\n",
    "\n",
    "        # Display the word cloud\n",
    "        plt.imshow(wordcloud, interpolation='bilinear')\n",
    "        plt.title(f\"Word Cloud for {channel_name}\")\n",
    "        plt.axis(\"off\")\n",
    "        plt.savefig(f\"word_cloud_{channel_name}.png\")\n",
    "        plt.show()\n",
    "\n",
    "        \n",
    "        \n",
    "df_channels_en = pd.read_csv(os.path.join(DATA_PATH, \"df_channels_en.tsv.gz\"), compression=\"infer\", sep=\"\\t\")\n",
    "plot_word_clouds(10, df_yt_metadata_filtered, df_channels_en, CATEGORY)\n"
   ]
  },
  {
   "cell_type": "markdown",
   "metadata": {},
   "source": [
    "### Let's Look At Tag Evolution"
   ]
  },
  {
   "cell_type": "code",
   "execution_count": null,
   "metadata": {},
   "outputs": [
    {
     "data": {
      "application/vnd.plotly.v1+json": {
       "config": {
        "plotlyServerURL": "https://plot.ly"
       },
       "data": [
        {
         "alignmentgroup": "True",
         "hovertemplate": "Year=%{x}<br>Number of Tags=%{y}<extra></extra>",
         "legendgroup": "",
         "marker": {
          "color": "#636efa",
          "opacity": 0.6,
          "pattern": {
           "shape": ""
          }
         },
         "name": "",
         "offsetgroup": "",
         "orientation": "v",
         "showlegend": false,
         "textposition": "auto",
         "type": "bar",
         "x": [
          2006,
          2007,
          2008,
          2009,
          2010,
          2011,
          2012,
          2013,
          2014,
          2015,
          2016,
          2017,
          2018,
          2019
         ],
         "xaxis": "x",
         "y": [
          15,
          97,
          198,
          876,
          3016,
          6483,
          9990,
          19295,
          30560,
          52816,
          101464,
          148014,
          153910,
          105457
         ],
         "yaxis": "y"
        }
       ],
       "layout": {
        "barmode": "relative",
        "legend": {
         "tracegroupgap": 0
        },
        "template": {
         "data": {
          "bar": [
           {
            "error_x": {
             "color": "#2a3f5f"
            },
            "error_y": {
             "color": "#2a3f5f"
            },
            "marker": {
             "line": {
              "color": "#E5ECF6",
              "width": 0.5
             },
             "pattern": {
              "fillmode": "overlay",
              "size": 10,
              "solidity": 0.2
             }
            },
            "type": "bar"
           }
          ],
          "barpolar": [
           {
            "marker": {
             "line": {
              "color": "#E5ECF6",
              "width": 0.5
             },
             "pattern": {
              "fillmode": "overlay",
              "size": 10,
              "solidity": 0.2
             }
            },
            "type": "barpolar"
           }
          ],
          "carpet": [
           {
            "aaxis": {
             "endlinecolor": "#2a3f5f",
             "gridcolor": "white",
             "linecolor": "white",
             "minorgridcolor": "white",
             "startlinecolor": "#2a3f5f"
            },
            "baxis": {
             "endlinecolor": "#2a3f5f",
             "gridcolor": "white",
             "linecolor": "white",
             "minorgridcolor": "white",
             "startlinecolor": "#2a3f5f"
            },
            "type": "carpet"
           }
          ],
          "choropleth": [
           {
            "colorbar": {
             "outlinewidth": 0,
             "ticks": ""
            },
            "type": "choropleth"
           }
          ],
          "contour": [
           {
            "colorbar": {
             "outlinewidth": 0,
             "ticks": ""
            },
            "colorscale": [
             [
              0,
              "#0d0887"
             ],
             [
              0.1111111111111111,
              "#46039f"
             ],
             [
              0.2222222222222222,
              "#7201a8"
             ],
             [
              0.3333333333333333,
              "#9c179e"
             ],
             [
              0.4444444444444444,
              "#bd3786"
             ],
             [
              0.5555555555555556,
              "#d8576b"
             ],
             [
              0.6666666666666666,
              "#ed7953"
             ],
             [
              0.7777777777777778,
              "#fb9f3a"
             ],
             [
              0.8888888888888888,
              "#fdca26"
             ],
             [
              1,
              "#f0f921"
             ]
            ],
            "type": "contour"
           }
          ],
          "contourcarpet": [
           {
            "colorbar": {
             "outlinewidth": 0,
             "ticks": ""
            },
            "type": "contourcarpet"
           }
          ],
          "heatmap": [
           {
            "colorbar": {
             "outlinewidth": 0,
             "ticks": ""
            },
            "colorscale": [
             [
              0,
              "#0d0887"
             ],
             [
              0.1111111111111111,
              "#46039f"
             ],
             [
              0.2222222222222222,
              "#7201a8"
             ],
             [
              0.3333333333333333,
              "#9c179e"
             ],
             [
              0.4444444444444444,
              "#bd3786"
             ],
             [
              0.5555555555555556,
              "#d8576b"
             ],
             [
              0.6666666666666666,
              "#ed7953"
             ],
             [
              0.7777777777777778,
              "#fb9f3a"
             ],
             [
              0.8888888888888888,
              "#fdca26"
             ],
             [
              1,
              "#f0f921"
             ]
            ],
            "type": "heatmap"
           }
          ],
          "heatmapgl": [
           {
            "colorbar": {
             "outlinewidth": 0,
             "ticks": ""
            },
            "colorscale": [
             [
              0,
              "#0d0887"
             ],
             [
              0.1111111111111111,
              "#46039f"
             ],
             [
              0.2222222222222222,
              "#7201a8"
             ],
             [
              0.3333333333333333,
              "#9c179e"
             ],
             [
              0.4444444444444444,
              "#bd3786"
             ],
             [
              0.5555555555555556,
              "#d8576b"
             ],
             [
              0.6666666666666666,
              "#ed7953"
             ],
             [
              0.7777777777777778,
              "#fb9f3a"
             ],
             [
              0.8888888888888888,
              "#fdca26"
             ],
             [
              1,
              "#f0f921"
             ]
            ],
            "type": "heatmapgl"
           }
          ],
          "histogram": [
           {
            "marker": {
             "pattern": {
              "fillmode": "overlay",
              "size": 10,
              "solidity": 0.2
             }
            },
            "type": "histogram"
           }
          ],
          "histogram2d": [
           {
            "colorbar": {
             "outlinewidth": 0,
             "ticks": ""
            },
            "colorscale": [
             [
              0,
              "#0d0887"
             ],
             [
              0.1111111111111111,
              "#46039f"
             ],
             [
              0.2222222222222222,
              "#7201a8"
             ],
             [
              0.3333333333333333,
              "#9c179e"
             ],
             [
              0.4444444444444444,
              "#bd3786"
             ],
             [
              0.5555555555555556,
              "#d8576b"
             ],
             [
              0.6666666666666666,
              "#ed7953"
             ],
             [
              0.7777777777777778,
              "#fb9f3a"
             ],
             [
              0.8888888888888888,
              "#fdca26"
             ],
             [
              1,
              "#f0f921"
             ]
            ],
            "type": "histogram2d"
           }
          ],
          "histogram2dcontour": [
           {
            "colorbar": {
             "outlinewidth": 0,
             "ticks": ""
            },
            "colorscale": [
             [
              0,
              "#0d0887"
             ],
             [
              0.1111111111111111,
              "#46039f"
             ],
             [
              0.2222222222222222,
              "#7201a8"
             ],
             [
              0.3333333333333333,
              "#9c179e"
             ],
             [
              0.4444444444444444,
              "#bd3786"
             ],
             [
              0.5555555555555556,
              "#d8576b"
             ],
             [
              0.6666666666666666,
              "#ed7953"
             ],
             [
              0.7777777777777778,
              "#fb9f3a"
             ],
             [
              0.8888888888888888,
              "#fdca26"
             ],
             [
              1,
              "#f0f921"
             ]
            ],
            "type": "histogram2dcontour"
           }
          ],
          "mesh3d": [
           {
            "colorbar": {
             "outlinewidth": 0,
             "ticks": ""
            },
            "type": "mesh3d"
           }
          ],
          "parcoords": [
           {
            "line": {
             "colorbar": {
              "outlinewidth": 0,
              "ticks": ""
             }
            },
            "type": "parcoords"
           }
          ],
          "pie": [
           {
            "automargin": true,
            "type": "pie"
           }
          ],
          "scatter": [
           {
            "fillpattern": {
             "fillmode": "overlay",
             "size": 10,
             "solidity": 0.2
            },
            "type": "scatter"
           }
          ],
          "scatter3d": [
           {
            "line": {
             "colorbar": {
              "outlinewidth": 0,
              "ticks": ""
             }
            },
            "marker": {
             "colorbar": {
              "outlinewidth": 0,
              "ticks": ""
             }
            },
            "type": "scatter3d"
           }
          ],
          "scattercarpet": [
           {
            "marker": {
             "colorbar": {
              "outlinewidth": 0,
              "ticks": ""
             }
            },
            "type": "scattercarpet"
           }
          ],
          "scattergeo": [
           {
            "marker": {
             "colorbar": {
              "outlinewidth": 0,
              "ticks": ""
             }
            },
            "type": "scattergeo"
           }
          ],
          "scattergl": [
           {
            "marker": {
             "colorbar": {
              "outlinewidth": 0,
              "ticks": ""
             }
            },
            "type": "scattergl"
           }
          ],
          "scattermapbox": [
           {
            "marker": {
             "colorbar": {
              "outlinewidth": 0,
              "ticks": ""
             }
            },
            "type": "scattermapbox"
           }
          ],
          "scatterpolar": [
           {
            "marker": {
             "colorbar": {
              "outlinewidth": 0,
              "ticks": ""
             }
            },
            "type": "scatterpolar"
           }
          ],
          "scatterpolargl": [
           {
            "marker": {
             "colorbar": {
              "outlinewidth": 0,
              "ticks": ""
             }
            },
            "type": "scatterpolargl"
           }
          ],
          "scatterternary": [
           {
            "marker": {
             "colorbar": {
              "outlinewidth": 0,
              "ticks": ""
             }
            },
            "type": "scatterternary"
           }
          ],
          "surface": [
           {
            "colorbar": {
             "outlinewidth": 0,
             "ticks": ""
            },
            "colorscale": [
             [
              0,
              "#0d0887"
             ],
             [
              0.1111111111111111,
              "#46039f"
             ],
             [
              0.2222222222222222,
              "#7201a8"
             ],
             [
              0.3333333333333333,
              "#9c179e"
             ],
             [
              0.4444444444444444,
              "#bd3786"
             ],
             [
              0.5555555555555556,
              "#d8576b"
             ],
             [
              0.6666666666666666,
              "#ed7953"
             ],
             [
              0.7777777777777778,
              "#fb9f3a"
             ],
             [
              0.8888888888888888,
              "#fdca26"
             ],
             [
              1,
              "#f0f921"
             ]
            ],
            "type": "surface"
           }
          ],
          "table": [
           {
            "cells": {
             "fill": {
              "color": "#EBF0F8"
             },
             "line": {
              "color": "white"
             }
            },
            "header": {
             "fill": {
              "color": "#C8D4E3"
             },
             "line": {
              "color": "white"
             }
            },
            "type": "table"
           }
          ]
         },
         "layout": {
          "annotationdefaults": {
           "arrowcolor": "#2a3f5f",
           "arrowhead": 0,
           "arrowwidth": 1
          },
          "autotypenumbers": "strict",
          "coloraxis": {
           "colorbar": {
            "outlinewidth": 0,
            "ticks": ""
           }
          },
          "colorscale": {
           "diverging": [
            [
             0,
             "#8e0152"
            ],
            [
             0.1,
             "#c51b7d"
            ],
            [
             0.2,
             "#de77ae"
            ],
            [
             0.3,
             "#f1b6da"
            ],
            [
             0.4,
             "#fde0ef"
            ],
            [
             0.5,
             "#f7f7f7"
            ],
            [
             0.6,
             "#e6f5d0"
            ],
            [
             0.7,
             "#b8e186"
            ],
            [
             0.8,
             "#7fbc41"
            ],
            [
             0.9,
             "#4d9221"
            ],
            [
             1,
             "#276419"
            ]
           ],
           "sequential": [
            [
             0,
             "#0d0887"
            ],
            [
             0.1111111111111111,
             "#46039f"
            ],
            [
             0.2222222222222222,
             "#7201a8"
            ],
            [
             0.3333333333333333,
             "#9c179e"
            ],
            [
             0.4444444444444444,
             "#bd3786"
            ],
            [
             0.5555555555555556,
             "#d8576b"
            ],
            [
             0.6666666666666666,
             "#ed7953"
            ],
            [
             0.7777777777777778,
             "#fb9f3a"
            ],
            [
             0.8888888888888888,
             "#fdca26"
            ],
            [
             1,
             "#f0f921"
            ]
           ],
           "sequentialminus": [
            [
             0,
             "#0d0887"
            ],
            [
             0.1111111111111111,
             "#46039f"
            ],
            [
             0.2222222222222222,
             "#7201a8"
            ],
            [
             0.3333333333333333,
             "#9c179e"
            ],
            [
             0.4444444444444444,
             "#bd3786"
            ],
            [
             0.5555555555555556,
             "#d8576b"
            ],
            [
             0.6666666666666666,
             "#ed7953"
            ],
            [
             0.7777777777777778,
             "#fb9f3a"
            ],
            [
             0.8888888888888888,
             "#fdca26"
            ],
            [
             1,
             "#f0f921"
            ]
           ]
          },
          "colorway": [
           "#636efa",
           "#EF553B",
           "#00cc96",
           "#ab63fa",
           "#FFA15A",
           "#19d3f3",
           "#FF6692",
           "#B6E880",
           "#FF97FF",
           "#FECB52"
          ],
          "font": {
           "color": "#2a3f5f"
          },
          "geo": {
           "bgcolor": "white",
           "lakecolor": "white",
           "landcolor": "#E5ECF6",
           "showlakes": true,
           "showland": true,
           "subunitcolor": "white"
          },
          "hoverlabel": {
           "align": "left"
          },
          "hovermode": "closest",
          "mapbox": {
           "style": "light"
          },
          "paper_bgcolor": "white",
          "plot_bgcolor": "#E5ECF6",
          "polar": {
           "angularaxis": {
            "gridcolor": "white",
            "linecolor": "white",
            "ticks": ""
           },
           "bgcolor": "#E5ECF6",
           "radialaxis": {
            "gridcolor": "white",
            "linecolor": "white",
            "ticks": ""
           }
          },
          "scene": {
           "xaxis": {
            "backgroundcolor": "#E5ECF6",
            "gridcolor": "white",
            "gridwidth": 2,
            "linecolor": "white",
            "showbackground": true,
            "ticks": "",
            "zerolinecolor": "white"
           },
           "yaxis": {
            "backgroundcolor": "#E5ECF6",
            "gridcolor": "white",
            "gridwidth": 2,
            "linecolor": "white",
            "showbackground": true,
            "ticks": "",
            "zerolinecolor": "white"
           },
           "zaxis": {
            "backgroundcolor": "#E5ECF6",
            "gridcolor": "white",
            "gridwidth": 2,
            "linecolor": "white",
            "showbackground": true,
            "ticks": "",
            "zerolinecolor": "white"
           }
          },
          "shapedefaults": {
           "line": {
            "color": "#2a3f5f"
           }
          },
          "ternary": {
           "aaxis": {
            "gridcolor": "white",
            "linecolor": "white",
            "ticks": ""
           },
           "baxis": {
            "gridcolor": "white",
            "linecolor": "white",
            "ticks": ""
           },
           "bgcolor": "#E5ECF6",
           "caxis": {
            "gridcolor": "white",
            "linecolor": "white",
            "ticks": ""
           }
          },
          "title": {
           "x": 0.05
          },
          "xaxis": {
           "automargin": true,
           "gridcolor": "white",
           "linecolor": "white",
           "ticks": "",
           "title": {
            "standoff": 15
           },
           "zerolinecolor": "white",
           "zerolinewidth": 2
          },
          "yaxis": {
           "automargin": true,
           "gridcolor": "white",
           "linecolor": "white",
           "ticks": "",
           "title": {
            "standoff": 15
           },
           "zerolinecolor": "white",
           "zerolinewidth": 2
          }
         }
        },
        "title": {
         "text": "Number of Tags Used for \"vlog\", \"vlogging\", \"vlogs\", and \"vlogger\" from 2006 to 2019"
        },
        "xaxis": {
         "anchor": "y",
         "domain": [
          0,
          1
         ],
         "title": {
          "text": "Year"
         }
        },
        "yaxis": {
         "anchor": "x",
         "domain": [
          0,
          1
         ],
         "title": {
          "text": "Number of Tags"
         }
        }
       }
      }
     },
     "metadata": {},
     "output_type": "display_data"
    }
   ],
   "source": [
    "filtered_df = df_yt_metadata_filtered[df_yt_metadata_filtered['tags'].str.contains('vlog|vlogging|vlogs|vlogger', case=False)]\n",
    "\n",
    "# Group the filtered dataframe by year and count the number of tags\n",
    "tag_count_per_year = filtered_df.groupby(filtered_df['upload_date'].dt.year)['tags'].count()\n",
    "\n",
    "# Create the bar plot\n",
    "fig = px.bar(\n",
    "    x=tag_count_per_year.index,\n",
    "    y=tag_count_per_year.values,\n",
    "    title='Number of Tags Used for \"vlog\", \"vlogging\", \"vlogs\", and \"vlogger\" from 2006 to 2019',\n",
    "    labels={'x': 'Year', 'y': 'Number of Tags'},\n",
    "    opacity=0.6\n",
    ")\n",
    "\n",
    "fig.show()"
   ]
  },
  {
   "cell_type": "markdown",
   "metadata": {},
   "source": [
    "## Latent Dirichlet Allocation (LDA)"
   ]
  },
  {
   "cell_type": "code",
   "execution_count": null,
   "metadata": {},
   "outputs": [],
   "source": [
    "# Remove stopwords\n",
    "stop_words = set(stopwords.words('english'))\n",
    "\n",
    "# Lemmatize and remove plurals and other forms of the same word\n",
    "lemmatizer = nltk.stem.WordNetLemmatizer()\n",
    "\n",
    "# Define the pattern to match the years 2006 to 2019\n",
    "pattern = r'\\b(20[06-9]|201[0-9])\\b'\n",
    "\n",
    "def process_tags(tags):\n",
    "    \n",
    "    # Lowercase, split, and filter stopwords\n",
    "    tags = [tag.lower() for tag in tags.split(',') if tag.lower() not in stop_words]\n",
    "    tags = [tag.replace(' ', '_') if ' ' in tag else tag for tag in tags]\n",
    "        \n",
    "    # Lemmatize and remove years\n",
    "    return [re.sub(pattern, '', lemmatizer.lemmatize(tag)) for tag in tags]\n",
    "\n",
    "# Apply processing to each row\n",
    "people_blogs_tags = df_yt_metadata_filtered['tags'].dropna().apply(process_tags)"
   ]
  },
  {
   "cell_type": "code",
   "execution_count": null,
   "metadata": {},
   "outputs": [],
   "source": [
    "LDA_test = people_blogs_tags.sample(1000000, random_state=42) #500000\n",
    "vectorizer = CountVectorizer()\n",
    "tag_matrix = vectorizer.fit_transform([', '.join(tags) for tags in LDA_test])\n",
    "\n",
    "# Fit LDA model\n",
    "lda = LatentDirichletAllocation(n_components=10, random_state=0) \n",
    "\n",
    "lda.fit(tag_matrix)\n",
    "\n",
    "pyLDAvis.enable_notebook()\n",
    "panel = pyLDAvis.lda_model.prepare(lda, tag_matrix, vectorizer, mds='tsne')\n",
    "panel"
   ]
  },
  {
   "cell_type": "markdown",
   "metadata": {},
   "source": [
    "## Channel evolution analysis"
   ]
  },
  {
   "cell_type": "markdown",
   "metadata": {},
   "source": [
    "#### Read data"
   ]
  },
  {
   "cell_type": "markdown",
   "metadata": {},
   "source": [
    "> **Important Note**: Only run this once, later on, read the Dataframes instead."
   ]
  },
  {
   "cell_type": "code",
   "execution_count": null,
   "metadata": {},
   "outputs": [],
   "source": [
    "df_feather = feather.read_feather(os.path.join(DATA_PATH, 'yt_metadata_helper.feather')) # takes around 9m\n",
    "channels = pd.read_csv(os.path.join(DATA_PATH, \"df_channels_en.tsv.gz\"), compression=\"infer\", sep=\"\\t\")\n",
    "timeseries = pd.read_csv(os.path.join(DATA_PATH, \"df_timeseries_en.tsv.gz\"), compression=\"infer\", sep=\"\\t\")"
   ]
  },
  {
   "cell_type": "markdown",
   "metadata": {},
   "source": [
    "#### Preprocessing"
   ]
  },
  {
   "cell_type": "code",
   "execution_count": null,
   "metadata": {},
   "outputs": [],
   "source": [
    "channels[\"join_date\"] = pd.to_datetime(channels[\"join_date\"])\n",
    "timeseries[\"datetime\"] = pd.to_datetime(timeseries[\"datetime\"])\n",
    "df_feather[\"upload_date\"] = pd.to_datetime(df_feather[\"upload_date\"])\n",
    "df_feather[\"year_month\"] = df_feather['upload_date'].dt.to_period('M')\n",
    "df_feather[\"like_rate\"] = df_feather[\"like_count\"] / (df_feather[\"like_count\"] + df_feather[\"dislike_count\"])\n",
    "channels_PB = channels[channels['category_cc'] == \"People & Blogs\"]\n",
    "df_feather_PB = df_feather[df_feather[\"channel_id\"].isin(channels_PB[\"channel\"])]\n",
    "timeseries_PB = timeseries[timeseries['channel'].isin(channels_PB['channel'])]\n",
    "df_feather.head(1)"
   ]
  },
  {
   "cell_type": "markdown",
   "metadata": {},
   "source": [
    "#### Save resulting channel and helper dataframes"
   ]
  },
  {
   "cell_type": "code",
   "execution_count": null,
   "metadata": {},
   "outputs": [],
   "source": [
    "# The dataframes will be saved withing the /website_data/People_&_Blogs folder since they are used for the website\n",
    "df_feather_PB.reset_index().to_feather(os.path.join(PEOPLE_AND_BLOGS_PATH, \"df_PB_helper.feather\"))\n",
    "channels_PB.to_csv(os.path.join(PEOPLE_AND_BLOGS_PATH,\"df_PB_channels.csv.gz\"), compression=\"gzip\", index=False)"
   ]
  },
  {
   "cell_type": "markdown",
   "metadata": {},
   "source": [
    "#### Read in data"
   ]
  },
  {
   "cell_type": "code",
   "execution_count": null,
   "metadata": {},
   "outputs": [],
   "source": [
    "df_channels_PB = pd.read_csv(os.path.join(PEOPLE_AND_BLOGS_PATH, \"df_PB_channels.csv.gz\"),  compression='infer')\n",
    "df_feather_PB = pd.read_feather(os.path.join(PEOPLE_AND_BLOGS_PATH, \"df_PB_helper.feather\"))"
   ]
  },
  {
   "cell_type": "code",
   "execution_count": null,
   "metadata": {},
   "outputs": [
    {
     "name": "stdout",
     "output_type": "stream",
     "text": [
      "<class 'pandas.core.frame.DataFrame'>\n",
      "RangeIndex: 18413 entries, 0 to 18412\n",
      "Data columns (total 8 columns):\n",
      " #   Column              Non-Null Count  Dtype  \n",
      "---  ------              --------------  -----  \n",
      " 0   category_cc         18413 non-null  object \n",
      " 1   join_date           18413 non-null  object \n",
      " 2   channel             18413 non-null  object \n",
      " 3   name_cc             18413 non-null  object \n",
      " 4   subscribers_cc      18413 non-null  int64  \n",
      " 5   videos_cc           18413 non-null  int64  \n",
      " 6   subscriber_rank_sb  18413 non-null  float64\n",
      " 7   weights             18413 non-null  float64\n",
      "dtypes: float64(2), int64(2), object(4)\n",
      "memory usage: 1.1+ MB\n"
     ]
    },
    {
     "data": {
      "text/plain": [
       "None"
      ]
     },
     "metadata": {},
     "output_type": "display_data"
    },
    {
     "name": "stdout",
     "output_type": "stream",
     "text": [
      "<class 'pandas.core.frame.DataFrame'>\n",
      "RangeIndex: 5553837 entries, 0 to 5553836\n",
      "Data columns (total 11 columns):\n",
      " #   Column         Dtype         \n",
      "---  ------         -----         \n",
      " 0   index          int64         \n",
      " 1   categories     object        \n",
      " 2   channel_id     object        \n",
      " 3   dislike_count  float64       \n",
      " 4   display_id     object        \n",
      " 5   duration       int64         \n",
      " 6   like_count     float64       \n",
      " 7   upload_date    datetime64[ns]\n",
      " 8   view_count     float64       \n",
      " 9   year_month     period[M]     \n",
      " 10  like_rate      float64       \n",
      "dtypes: datetime64[ns](1), float64(4), int64(2), object(3), period[M](1)\n",
      "memory usage: 466.1+ MB\n"
     ]
    },
    {
     "data": {
      "text/plain": [
       "None"
      ]
     },
     "metadata": {},
     "output_type": "display_data"
    },
    {
     "data": {
      "text/plain": [
       "(None, None)"
      ]
     },
     "metadata": {},
     "output_type": "display_data"
    }
   ],
   "source": [
    "display(df_channels_PB.info()), display(df_feather_PB.info())"
   ]
  },
  {
   "cell_type": "markdown",
   "metadata": {},
   "source": [
    "For the website, we will only consider the top 1000 channels (w.r.t. their subscribers) in an effort to reduce the data size, since currently, the data files are too large to be tracked on `github` (`>100MB`). "
   ]
  },
  {
   "cell_type": "code",
   "execution_count": null,
   "metadata": {},
   "outputs": [
    {
     "name": "stdout",
     "output_type": "stream",
     "text": [
      "Number of channels: 1000\n"
     ]
    },
    {
     "data": {
      "text/html": [
       "<div>\n",
       "<style scoped>\n",
       "    .dataframe tbody tr th:only-of-type {\n",
       "        vertical-align: middle;\n",
       "    }\n",
       "\n",
       "    .dataframe tbody tr th {\n",
       "        vertical-align: top;\n",
       "    }\n",
       "\n",
       "    .dataframe thead th {\n",
       "        text-align: right;\n",
       "    }\n",
       "</style>\n",
       "<table border=\"1\" class=\"dataframe\">\n",
       "  <thead>\n",
       "    <tr style=\"text-align: right;\">\n",
       "      <th></th>\n",
       "      <th>category_cc</th>\n",
       "      <th>join_date</th>\n",
       "      <th>channel</th>\n",
       "      <th>name_cc</th>\n",
       "      <th>subscribers_cc</th>\n",
       "      <th>videos_cc</th>\n",
       "      <th>subscriber_rank_sb</th>\n",
       "      <th>weights</th>\n",
       "    </tr>\n",
       "  </thead>\n",
       "  <tbody>\n",
       "    <tr>\n",
       "      <th>0</th>\n",
       "      <td>People &amp; Blogs</td>\n",
       "      <td>2013-09-19</td>\n",
       "      <td>UCcgVECVN4OKV6DH1jLkqmcA</td>\n",
       "      <td>Jake Paul</td>\n",
       "      <td>19600000</td>\n",
       "      <td>824</td>\n",
       "      <td>144.0</td>\n",
       "      <td>2.087</td>\n",
       "    </tr>\n",
       "    <tr>\n",
       "      <th>1</th>\n",
       "      <td>People &amp; Blogs</td>\n",
       "      <td>2011-08-10</td>\n",
       "      <td>UCpko_-a4wgz2u_DgDgd9fqA</td>\n",
       "      <td>BuzzFeedVideo</td>\n",
       "      <td>19400000</td>\n",
       "      <td>6334</td>\n",
       "      <td>158.0</td>\n",
       "      <td>2.087</td>\n",
       "    </tr>\n",
       "    <tr>\n",
       "      <th>2</th>\n",
       "      <td>People &amp; Blogs</td>\n",
       "      <td>2016-01-10</td>\n",
       "      <td>UCWwWOFsW68TqXE-HZLC3WIA</td>\n",
       "      <td>The ACE Family</td>\n",
       "      <td>17600000</td>\n",
       "      <td>460</td>\n",
       "      <td>185.0</td>\n",
       "      <td>2.087</td>\n",
       "    </tr>\n",
       "  </tbody>\n",
       "</table>\n",
       "</div>"
      ],
      "text/plain": [
       "      category_cc   join_date                   channel         name_cc  \\\n",
       "0  People & Blogs  2013-09-19  UCcgVECVN4OKV6DH1jLkqmcA       Jake Paul   \n",
       "1  People & Blogs  2011-08-10  UCpko_-a4wgz2u_DgDgd9fqA   BuzzFeedVideo   \n",
       "2  People & Blogs  2016-01-10  UCWwWOFsW68TqXE-HZLC3WIA  The ACE Family   \n",
       "\n",
       "   subscribers_cc  videos_cc  subscriber_rank_sb  weights  \n",
       "0        19600000        824               144.0    2.087  \n",
       "1        19400000       6334               158.0    2.087  \n",
       "2        17600000        460               185.0    2.087  "
      ]
     },
     "metadata": {},
     "output_type": "display_data"
    },
    {
     "name": "stdout",
     "output_type": "stream",
     "text": [
      "<class 'pandas.core.frame.DataFrame'>\n",
      "RangeIndex: 1000 entries, 0 to 999\n",
      "Data columns (total 8 columns):\n",
      " #   Column              Non-Null Count  Dtype  \n",
      "---  ------              --------------  -----  \n",
      " 0   category_cc         1000 non-null   object \n",
      " 1   join_date           1000 non-null   object \n",
      " 2   channel             1000 non-null   object \n",
      " 3   name_cc             1000 non-null   object \n",
      " 4   subscribers_cc      1000 non-null   int64  \n",
      " 5   videos_cc           1000 non-null   int64  \n",
      " 6   subscriber_rank_sb  1000 non-null   float64\n",
      " 7   weights             1000 non-null   float64\n",
      "dtypes: float64(2), int64(2), object(4)\n",
      "memory usage: 62.6+ KB\n"
     ]
    },
    {
     "data": {
      "text/plain": [
       "None"
      ]
     },
     "metadata": {},
     "output_type": "display_data"
    }
   ],
   "source": [
    "# select top 1000 channels\n",
    "top_n = 1_000\n",
    "df_top_n_channels = df_channels_PB.sort_values(by='subscribers_cc', ascending=False).iloc[:top_n].copy()\n",
    "df_top_n_channels.reset_index(drop=True, inplace=True)\n",
    "\n",
    "print(f\"Number of channels: {len(df_top_n_channels)}\")\n",
    "display(df_top_n_channels.head(3))\n",
    "display(df_top_n_channels.info())"
   ]
  },
  {
   "cell_type": "code",
   "execution_count": null,
   "metadata": {},
   "outputs": [
    {
     "name": "stdout",
     "output_type": "stream",
     "text": [
      "Number of videos: 522142\n",
      "Number of videos removed: 5031695\n"
     ]
    },
    {
     "data": {
      "text/html": [
       "<div>\n",
       "<style scoped>\n",
       "    .dataframe tbody tr th:only-of-type {\n",
       "        vertical-align: middle;\n",
       "    }\n",
       "\n",
       "    .dataframe tbody tr th {\n",
       "        vertical-align: top;\n",
       "    }\n",
       "\n",
       "    .dataframe thead th {\n",
       "        text-align: right;\n",
       "    }\n",
       "</style>\n",
       "<table border=\"1\" class=\"dataframe\">\n",
       "  <thead>\n",
       "    <tr style=\"text-align: right;\">\n",
       "      <th></th>\n",
       "      <th>index</th>\n",
       "      <th>categories</th>\n",
       "      <th>channel_id</th>\n",
       "      <th>dislike_count</th>\n",
       "      <th>display_id</th>\n",
       "      <th>duration</th>\n",
       "      <th>like_count</th>\n",
       "      <th>upload_date</th>\n",
       "      <th>view_count</th>\n",
       "      <th>year_month</th>\n",
       "      <th>like_rate</th>\n",
       "    </tr>\n",
       "  </thead>\n",
       "  <tbody>\n",
       "    <tr>\n",
       "      <th>594</th>\n",
       "      <td>12471</td>\n",
       "      <td>People &amp; Blogs</td>\n",
       "      <td>UCzVw9odnihM5PgKSv5UnDPA</td>\n",
       "      <td>99.0</td>\n",
       "      <td>O-HFXkqbp5A</td>\n",
       "      <td>606</td>\n",
       "      <td>410.0</td>\n",
       "      <td>2019-10-02</td>\n",
       "      <td>50506.0</td>\n",
       "      <td>2019-10</td>\n",
       "      <td>0.805501</td>\n",
       "    </tr>\n",
       "    <tr>\n",
       "      <th>595</th>\n",
       "      <td>12472</td>\n",
       "      <td>People &amp; Blogs</td>\n",
       "      <td>UCzVw9odnihM5PgKSv5UnDPA</td>\n",
       "      <td>41.0</td>\n",
       "      <td>B2F_raNXm38</td>\n",
       "      <td>629</td>\n",
       "      <td>338.0</td>\n",
       "      <td>2019-09-27</td>\n",
       "      <td>58311.0</td>\n",
       "      <td>2019-09</td>\n",
       "      <td>0.891821</td>\n",
       "    </tr>\n",
       "    <tr>\n",
       "      <th>596</th>\n",
       "      <td>12473</td>\n",
       "      <td>People &amp; Blogs</td>\n",
       "      <td>UCzVw9odnihM5PgKSv5UnDPA</td>\n",
       "      <td>53.0</td>\n",
       "      <td>u-qekJSjUUg</td>\n",
       "      <td>616</td>\n",
       "      <td>442.0</td>\n",
       "      <td>2019-09-23</td>\n",
       "      <td>68642.0</td>\n",
       "      <td>2019-09</td>\n",
       "      <td>0.892929</td>\n",
       "    </tr>\n",
       "  </tbody>\n",
       "</table>\n",
       "</div>"
      ],
      "text/plain": [
       "     index      categories                channel_id  dislike_count  \\\n",
       "594  12471  People & Blogs  UCzVw9odnihM5PgKSv5UnDPA           99.0   \n",
       "595  12472  People & Blogs  UCzVw9odnihM5PgKSv5UnDPA           41.0   \n",
       "596  12473  People & Blogs  UCzVw9odnihM5PgKSv5UnDPA           53.0   \n",
       "\n",
       "      display_id  duration  like_count upload_date  view_count year_month  \\\n",
       "594  O-HFXkqbp5A       606       410.0  2019-10-02     50506.0    2019-10   \n",
       "595  B2F_raNXm38       629       338.0  2019-09-27     58311.0    2019-09   \n",
       "596  u-qekJSjUUg       616       442.0  2019-09-23     68642.0    2019-09   \n",
       "\n",
       "     like_rate  \n",
       "594   0.805501  \n",
       "595   0.891821  \n",
       "596   0.892929  "
      ]
     },
     "metadata": {},
     "output_type": "display_data"
    },
    {
     "name": "stdout",
     "output_type": "stream",
     "text": [
      "<class 'pandas.core.frame.DataFrame'>\n",
      "Index: 522142 entries, 594 to 5543970\n",
      "Data columns (total 11 columns):\n",
      " #   Column         Non-Null Count   Dtype         \n",
      "---  ------         --------------   -----         \n",
      " 0   index          522142 non-null  int64         \n",
      " 1   categories     522142 non-null  object        \n",
      " 2   channel_id     522142 non-null  object        \n",
      " 3   dislike_count  516213 non-null  float64       \n",
      " 4   display_id     522142 non-null  object        \n",
      " 5   duration       522142 non-null  int64         \n",
      " 6   like_count     516213 non-null  float64       \n",
      " 7   upload_date    522142 non-null  datetime64[ns]\n",
      " 8   view_count     522142 non-null  float64       \n",
      " 9   year_month     522142 non-null  period[M]     \n",
      " 10  like_rate      514112 non-null  float64       \n",
      "dtypes: datetime64[ns](1), float64(4), int64(2), object(3), period[M](1)\n",
      "memory usage: 47.8+ MB\n"
     ]
    },
    {
     "data": {
      "text/plain": [
       "None"
      ]
     },
     "metadata": {},
     "output_type": "display_data"
    }
   ],
   "source": [
    "# select top 1000 channel helper data\n",
    "top_n_channels = df_top_n_channels[\"channel\"].tolist()\n",
    "df_top_n_helper = df_feather_PB[df_feather_PB[\"channel_id\"].isin(top_n_channels)].copy()\n",
    "\n",
    "print(f\"Number of videos: {len(df_top_n_helper)}\")\n",
    "print(f\"Number of videos removed: {len(df_feather_PB) - len(df_top_n_helper)}\")\n",
    "display(df_top_n_helper.head(3))\n",
    "display(df_top_n_helper.info())"
   ]
  },
  {
   "cell_type": "markdown",
   "metadata": {},
   "source": [
    "As you can see, the current memory usage is much lower than before, so let's save the data and use it for the website."
   ]
  },
  {
   "cell_type": "markdown",
   "metadata": {},
   "source": [
    "#### Save top 1000 channels and helper DataFrames"
   ]
  },
  {
   "cell_type": "code",
   "execution_count": null,
   "metadata": {},
   "outputs": [],
   "source": [
    "TOP_N_DATA_PATH = os.path.join(PEOPLE_AND_BLOGS_PATH, f\"top_{top_n}\")\n",
    "\n",
    "if not os.path.exists(TOP_N_DATA_PATH):\n",
    "    os.makedirs(TOP_N_DATA_PATH)\n",
    "\n",
    "df_top_n_helper.reset_index().to_feather(os.path.join(TOP_N_DATA_PATH, f\"df_top_{top_n}_helper.feather\"))\n",
    "df_top_n_channels.to_csv(os.path.join(TOP_N_DATA_PATH, f\"df_top_{top_n}_channels.csv.gz\"), compression=\"gzip\", index=False)"
   ]
  },
  {
   "cell_type": "markdown",
   "metadata": {},
   "source": [
    "#### Plotting"
   ]
  },
  {
   "cell_type": "code",
   "execution_count": null,
   "metadata": {},
   "outputs": [],
   "source": [
    "def filter_not_diverse_channels(channel_id, df_feather=df_feather_PB, show_evolution=False):\n",
    "    '''\n",
    "    Calculates the proportion of videos in the 'People & Blogs' category for a given channel.\n",
    "\n",
    "    Parameters:\n",
    "    - channel_id (str): The YouTube channel ID.\n",
    "    - df_feather (DataFrame): DataFrame containing video data.\n",
    "\n",
    "    Returns:\n",
    "    - bool: True if the proportion of 'People & Blogs' videos is less than 75%, False otherwise.\n",
    "    '''\n",
    "    df_filtered = df_feather[df_feather[\"channel_id\"] == channel_id]\n",
    "    grouped_data = df_filtered.groupby([\"year_month\", \"categories\"]).size()\n",
    "    # display(grouped_data)\n",
    "    sorted_data = grouped_data.reset_index(name='count').sort_values(['year_month', 'count'], ascending=[True, False])\n",
    "    if show_evolution:\n",
    "        display(sorted_data)\n",
    "\n",
    "    most_popular_cat = sorted_data.drop_duplicates(subset=[\"year_month\"])\n",
    "    # display(most_popular_cat)\n",
    "\n",
    "    people_and_blog_proportion = (most_popular_cat[\"categories\"] == \"People & Blogs\").mean()\n",
    "    # print(people_and_blog_proportion)\n",
    "    return people_and_blog_proportion < 0.75"
   ]
  },
  {
   "cell_type": "code",
   "execution_count": null,
   "metadata": {},
   "outputs": [
    {
     "name": "stderr",
     "output_type": "stream",
     "text": [
      "100%|██████████| 100/100 [00:21<00:00,  4.56it/s]"
     ]
    },
    {
     "name": "stdout",
     "output_type": "stream",
     "text": [
      "There are 100 channels in PB category, but only 38 have less than 0.75 video in that category\n"
     ]
    },
    {
     "name": "stderr",
     "output_type": "stream",
     "text": [
      "\n"
     ]
    }
   ],
   "source": [
    "i = 100\n",
    "channels_PB_transi_mask = df_channels_PB[:i].progress_apply(lambda channel: filter_not_diverse_channels(channel[\"channel\"]), axis=1)\n",
    "df_channels_PB_transi = df_channels_PB[:i][channels_PB_transi_mask]\n",
    "print(f\"There are {len(df_channels_PB[:i])} channels in PB category, but only {len(df_channels_PB_transi)} have less than 0.75 video in that category\")"
   ]
  },
  {
   "cell_type": "code",
   "execution_count": null,
   "metadata": {},
   "outputs": [
    {
     "data": {
      "image/png": "[encoded data removed]",
      "text/plain": [
       "<Figure size 1000x500 with 1 Axes>"
      ]
     },
     "metadata": {},
     "output_type": "display_data"
    },
    {
     "data": {
      "image/png": "[encoded data removed]",
      "text/plain": [
       "<Figure size 1200x600 with 2 Axes>"
      ]
     },
     "metadata": {},
     "output_type": "display_data"
    },
    {
     "data": {
      "image/png": "[encoded data removed]",
      "text/plain": [
       "<Figure size 1000x600 with 1 Axes>"
      ]
     },
     "metadata": {},
     "output_type": "display_data"
    }
   ],
   "source": [
    "def channel_id_from_channel_name(channel_name, df_channels):\n",
    "    channel_id = df_channels[df_channels['name_cc'] == channel_name]['channel']\n",
    "    return list(channel_id)[0]\n",
    "\n",
    "channel_name = \"The LaBrant Fam\"\n",
    "channel_id = channel_id_from_channel_name(channel_name, df_channels_PB)\n",
    "df_feather_PB_filt = df_feather_PB[df_feather_PB['channel_id']==channel_id]\n",
    "\n",
    "visualize_evolution_of_channel(channel_id, \n",
    "                               df_feather_PB_filt, \n",
    "                               channel_name, \n",
    "                               start_date=\"2016-09\", \n",
    "                               end_date=\"2019-09\",\n",
    "                               transition_date=\"2018-02\",\n",
    "                               streamlit_plot=False)\n",
    "video_frequency_and_duration(channel_id, \n",
    "                               df_feather_PB_filt, \n",
    "                               channel_name, \n",
    "                               start_date=\"2016-09\", \n",
    "                               end_date=\"2019-09\",\n",
    "                               transition_date=\"2018-02\",\n",
    "                               streamlit_plot=False)\n",
    "video_likes_and_views(channel_id, \n",
    "                               df_feather_PB_filt, \n",
    "                               channel_name, \n",
    "                               start_date=\"2016-09\", \n",
    "                               end_date=\"2019-09\",\n",
    "                               transition_date=\"2018-02\",\n",
    "                               streamlit_plot=False)"
   ]
  }
 ],
 "metadata": {
  "language_info": {
   "name": "python"
  }
 },
 "nbformat": 4,
 "nbformat_minor": 2
}
